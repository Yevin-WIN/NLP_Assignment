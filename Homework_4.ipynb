{
 "cells": [
  {
   "cell_type": "markdown",
   "metadata": {
    "collapsed": true,
    "jupyter": {
     "outputs_hidden": true
    },
    "pycharm": {
     "name": "#%% md\n"
    }
   },
   "source": [
    "# Homework 4: Logistic Regression\n",
    "#### Introduction to Natural Language Processing"
   ]
  },
  {
   "cell_type": "markdown",
   "metadata": {},
   "source": [
    "* Yevin, Kim. (kyevin@students.uni-mainz.de)\n",
    "* Hyerin, Seo. (hyseo@students.uni-mainz.de)\n",
    "* Yeonwoo, Nam. (yeonam@students.uni-mainz.de)"
   ]
  },
  {
   "cell_type": "markdown",
   "metadata": {
    "pycharm": {
     "name": "#%% md\n"
    }
   },
   "source": [
    "In this homework we're going to look at logistic regression and their properties.\n",
    "\n",
    "*Total Points: 20P*"
   ]
  },
  {
   "cell_type": "markdown",
   "metadata": {},
   "source": [
    "# Evaluation\n",
    "\n",
    "*TASK 1: Manually compute the cross-entropy! (2P)* -> Evaluation: XX/2\n",
    "\n",
    "*TASK 2: Program the cross-entropy loss calculate! (2P)* -> Evaluation: XX/2\n",
    "\n",
    "*TASK 3: Calculate steps of stochastic gradient descent. (2P)* -> Evaluation: XX/2\n",
    "\n",
    "*TASK 4: Program the above Task 3 in PyTorch! (3P)* -> Evaluation: XX/3\n",
    "\n",
    "*TASK 5: Compute the most likely class using LR! (1P)* -> Evaluation: XX/1\n",
    "\n",
    "*TASK 6: Create features for your Logistic Regression (PyTorch). (2P)* -> Evaluation: XX/2\n",
    "\n",
    "*TASK 7: Train your Logistic Regression. (3P)* -> Evaluation: XX/3\n",
    "\n",
    "*TASK 8: Test your model and calculate accuracy. (2P)* -> Evaluation: XX/2\n",
    "\n",
    "*TASK 9: LR with bag of words. (3P)* -> Evaluation: XX/3\n",
    "\n",
    "**Total: XX/20**"
   ]
  },
  {
   "cell_type": "markdown",
   "metadata": {},
   "source": [
    "# Section 1: Basics of Logistic Regression"
   ]
  },
  {
   "cell_type": "markdown",
   "metadata": {},
   "source": [
    "\n",
    "Within this section, we will define and calculate fundamental concepts associated with logistic regression. Tasks here involve calculating formulas by hand, i.e. writing the formula down. Subsequently, the computed formulas are implemented in Python."
   ]
  },
  {
   "cell_type": "markdown",
   "metadata": {},
   "source": [
    "## Section 1.1: Cross Entropy"
   ]
  },
  {
   "cell_type": "markdown",
   "metadata": {},
   "source": [
    "**Task 1 (2P): Manually compute the cross-entropy loss for**\n",
    "- y = 1, y_hat = 0.66\n",
    "- y = 1, y_hat = 0.7\n",
    "- y = 0, y_hat = 0.2\n",
    "- y = 0, y_hat = 0.8\n",
    "\n",
    "Give the full formula for each example and simplify as much as possible (Hint: At the end, there should only be a log term). Then calculate the decimal number using a calculator and round the result up to three decimal places. We use the log base e."
   ]
  },
  {
   "cell_type": "markdown",
   "metadata": {},
   "source": [
    "The formula of \"Loss of Cross-Entropy\" is \"-[ylog(y_hat) + (1-y)log(1-y_hat)]\"\n",
    "* Lce = −(1⋅ln(0.66)+(1−1)⋅ln(1−0.66)) = -ln(0.66) ≈ 0.416\n",
    "* Lce = −(1⋅ln(0.7)+(1−1)⋅ln(1−0.7)) = -ln(log(0.7)) ≈ 0.357\n",
    "* Lce = −(0⋅ln(0.2)+(1−0)⋅ln(1−0.2)) = -(ln(0.8)) ≈ 0.223\n",
    "* Lce = −(0⋅ln(0.8)+(1−0)⋅ln(1−0.8)) = −(log(0.2)) ≈ 1.609"
   ]
  },
  {
   "cell_type": "markdown",
   "metadata": {},
   "source": [
    "**Task 2 (2P): Define the cross-entropy loss for the binary case with numpy and calculate the above data with your implementation**"
   ]
  },
  {
   "cell_type": "code",
   "execution_count": 1,
   "metadata": {},
   "outputs": [
    {
     "name": "stdout",
     "output_type": "stream",
     "text": [
      "Example 1 : 0.416\n",
      "Example 2 : 0.357\n",
      "Example 3 : 0.223\n",
      "Example 4 : 1.609\n"
     ]
    }
   ],
   "source": [
    "import numpy as np\n",
    "\n",
    "\n",
    "'''\n",
    "\n",
    "Define the cross-entropy loss with numpy.\n",
    "Calculate the above data with your implementation\n",
    "\n",
    "Your code here\n",
    "\n",
    "2 pts.\n",
    "'''\n",
    "\n",
    "def binary_CE(y, y_hat):\n",
    "    return -np.mean(y * np.log(y_hat) + (1 - y) * np.log(1 - y_hat))\n",
    "\n",
    "# Given data\n",
    "y_values = np.array([1, 1, 0, 0])\n",
    "y_hat_values = np.array([0.66, 0.7, 0.2, 0.8])\n",
    "\n",
    "# Calculate CE\n",
    "for i in range(len(y_values)):\n",
    "    ce = binary_CE(y_values[i], y_hat_values[i])\n",
    "    print(f\"Example {i+1} : {ce:.3f}\")"
   ]
  },
  {
   "cell_type": "markdown",
   "metadata": {},
   "source": [
    "Imagine a logistic regression classifier with:\n",
    "- w = [0, 0, 0]; b = 0\n",
    "\n",
    "Example 1:\n",
    "- x = [0, 1, 0]; y = 0\n",
    "\n",
    "Example 2:\n",
    "- x = [1, 0, 1]; y = 1"
   ]
  },
  {
   "cell_type": "markdown",
   "metadata": {},
   "source": [
    "**Task 3 (2P): Manually perform 2 steps of stochastic gradient descent using cross-entropy loss and learning rate 0.1! What parameters do you obtain (show how you calculated it)?**"
   ]
  },
  {
   "cell_type": "markdown",
   "metadata": {},
   "source": [
    "#Example 1\n",
    "\n",
    "y_hat = sigmoid(0*0 + 0*1 + 0*0 + 0) = sigmoid(0) = 0.5 \n",
    "\n",
    "gradient:\n",
    "partial derivatives of the loss with respect to w = (y_hat - y)*xj = 0.5 * xj\n",
    "=> [0.5*0, 0.5*1, 0.5*0] = [0, 0.5, 0]\n",
    "\n",
    "learning rate: 0.1\n",
    "\n",
    "new weights:\n",
    "w_new = [0,0,0] - [0, 0.05, 0] = [0, -0.05, 0]\n",
    "\n",
    "new bias:\n",
    "b_new = 0-0.1*(0.5) = -0.05 \n",
    "\n",
    "--\n",
    "#Example 2\n",
    "y_hat = sigmoid(1*0 + 0 *(-0.05)+ 1*0 - 0.05) = sigmoid(-0.05) ≈ 0.4875\n",
    "\n",
    "gradient:\n",
    "partial derivatives of the loss with respect to w = (y_hat - y)*xj = -0.512 * xj\n",
    "=> [-0.512*1, -0.512*0, -0.512*1] = [-0.512, 0, -0.512]\n",
    "\n",
    "learning rate: 0.1\n",
    "\n",
    "new weights:\n",
    "w_new = [0, -0.05, 0] - [-0.0512, 0, -0.0512] = [0.0512, -0.052, 0.0512]\n",
    "\n",
    "new bias:\n",
    "b_new = -0.05 - 0.1*(-0.512) = 0.0012"
   ]
  },
  {
   "cell_type": "markdown",
   "metadata": {},
   "source": [
    "**Task 4 (3P): Program the above Task 3 in PyTorch!**"
   ]
  },
  {
   "cell_type": "code",
   "execution_count": 2,
   "metadata": {},
   "outputs": [
    {
     "name": "stdout",
     "output_type": "stream",
     "text": [
      "Model Parameters after example 1:\n",
      "Weights: tensor([[ 0.0000, -0.0500,  0.0000]])\n",
      "Bias: tensor([-0.0500])\n",
      "\n",
      "\n",
      "Model Parameters after example 2:\n",
      "Weights: tensor([[ 0.0512, -0.0500,  0.0512]])\n",
      "Bias: tensor([0.0012])\n",
      "\n",
      "\n"
     ]
    }
   ],
   "source": [
    "import torch\n",
    "import torch.nn as nn\n",
    "import torch.optim as optim\n",
    "\n",
    "# Examples\n",
    "x1 = torch.tensor([0, 1, 0], dtype=torch.float32)\n",
    "y1 = torch.tensor([0], dtype=torch.float32)\n",
    "\n",
    "x2 = torch.tensor([1, 0, 1], dtype=torch.float32)\n",
    "y2 = torch.tensor([1], dtype=torch.float32)\n",
    "\n",
    "data = [[x1, y1], [x2, y2]]\n",
    "\n",
    "'''\n",
    "Task 4\n",
    "\n",
    "Define a Logistic Regression in PyTorch and initialize the models with weights=0 and bias=0.\n",
    "Train with the two examples given above.\n",
    "Print out the parameters of the model after each example.\n",
    "\n",
    "3 pts.\n",
    "'''\n",
    "\n",
    "# Define Logistic Regression Model\n",
    "class LogisticRegression(nn.Module):\n",
    "    def __init__(self, input_size):\n",
    "        super(LogisticRegression, self).__init__()\n",
    "        self.linear = nn.Linear(input_size, 1) # Single output\n",
    "\n",
    "    def forward(self, x):\n",
    "        return torch.sigmoid(self.linear(x))\n",
    "\n",
    "\n",
    "# Define PyTorch Binary Cross-Entropy Loss\n",
    "criterion = nn.BCELoss()\n",
    "\n",
    "# Instantiate the Logistic Regression Model\n",
    "input_size = 3  # Size of input features\n",
    "model = LogisticRegression(input_size)\n",
    "\n",
    "# Initialize the weights and bias to zeros\n",
    "model.linear.weight.data.fill_(0)\n",
    "model.linear.bias.data.fill_(0)\n",
    "\n",
    "# Define Optimizer: Use stochastic Gradient Descent\n",
    "learning_rate = 0.1\n",
    "optimizer = optim.SGD(model.parameters(), lr=learning_rate)\n",
    "\n",
    "'''\n",
    "# Training Loop\n",
    "for i, example in enumerate(data):\n",
    "\n",
    "    # Initialize: Zero the gradients\n",
    "    optimizer.zero_grad()\n",
    "\n",
    "    # Forward pass\n",
    "    # ...\n",
    "\n",
    "    # Compute the loss\n",
    "    # ...\n",
    "\n",
    "    # Backward pass (Compute Gradient)\n",
    "    # ...\n",
    "\n",
    "    # Update our parameters, using the learning rate and gradient\n",
    "    # ...\n",
    "    \n",
    "    print(\"Model Parameters after example {}:\".format(i+1))\n",
    "    # Print model parameters\n",
    "    # ...\n",
    "    print(\"\\n\")\n",
    "'''\n",
    "\n",
    "\n",
    "# Training Loop\n",
    "for i, example in enumerate(data):\n",
    "\n",
    "    # Initialize: Zero the gradients\n",
    "    optimizer.zero_grad()\n",
    "\n",
    "    # Forward pass\n",
    "    outputs = model(example[0])\n",
    "    \n",
    "    # Compute the loss\n",
    "    loss = criterion(outputs, example[1])\n",
    "\n",
    "    # Backward pass (Compute Gradient)\n",
    "    loss.backward()\n",
    "\n",
    "    # Update our parameters, using the learning rate and gradient\n",
    "    optimizer.step()\n",
    "    \n",
    "    print(\"Model Parameters after example {}:\".format(i+1))\n",
    "    print(\"Weights:\", model.linear.weight.data)\n",
    "    print(\"Bias:\", model.linear.bias.data)\n",
    "    print(\"\\n\")\n"
   ]
  },
  {
   "cell_type": "markdown",
   "metadata": {},
   "source": [
    "## Section 1.2: Predicting with Logistic Regression"
   ]
  },
  {
   "cell_type": "markdown",
   "metadata": {},
   "source": [
    "Now, assume the following text:\n",
    "- the movie was entertaining and funny\n",
    "- brad 's new movie is super boring\n",
    "\n",
    "\n",
    "Our Logistic Regression has the following weights:\n",
    "- Weights are [10, -10, 20], bias = 0\n",
    "- Class 1 is \"positive\", class 0 is \"negative\"\n",
    "\n",
    "\n",
    "We consider the following features:\n",
    "\n",
    "1) contains \"funny\"\n",
    "2) contains \"boring\"\n",
    "3) contains \"good\""
   ]
  },
  {
   "cell_type": "markdown",
   "metadata": {},
   "source": [
    "**Task 5 (1P): Compute the most likely class for above sentences using our logistic regression model!**"
   ]
  },
  {
   "cell_type": "markdown",
   "metadata": {},
   "source": [
    "#1 The movie was entertaining and funny -> [1 0 0]\n",
    "\n",
    "#2 Brad's new movie is super boring -> [0 1 0]\n",
    "\n",
    "#1\n",
    "Prediction:\n",
    "sigmoid(10* 1+ (-10)* 0 + 20* 0 + 0)= sigmoid(10) ≈ 0.99995\n",
    "\n",
    "#2\n",
    "Prediction:\n",
    "sigmoid(10* 0 + (-10)* 1 + 20* 0 + 0) = sigmoid(-10) = 0.00004\n",
    "\n",
    "=> Assuming a threshold of 0.5, Sentence 1 is most likely classified as Class 1(positive), and Sentence 2 is likely classified as Class 0(negative)."
   ]
  },
  {
   "cell_type": "markdown",
   "metadata": {},
   "source": [
    "We will do the same concept on our movie reviews from Homework 1 again: Classify a set of movie reviews as positive or negative. Use the dataset from Homework 1 ([Large Movie Review Dataset](https://ai.stanford.edu/~amaas/data/sentiment/)). We will define our own positive/negative words and train a logistic regression on these features.\n",
    "\n",
    "First, we'll load the data and look at a couple of examples. "
   ]
  },
  {
   "cell_type": "code",
   "execution_count": 3,
   "metadata": {},
   "outputs": [
    {
     "name": "stdout",
     "output_type": "stream",
     "text": [
      "Number of positive examples: 12500\n",
      "Number of negative examples: 12500\n",
      "\n",
      "\n",
      "Sample positive example: bromwell high is a cartoon comedy. it ran at the same time as some other programs about school life, such as \"teachers\". my 35 years in the teaching profession lead me to believe that bromwell high's satire is much closer to reality than is \"teachers\". the scramble to survive financially, the insightful students who can see right through their pathetic teachers' pomp, the pettiness of the whole situation, all remind me of the schools i knew and their students. when i saw the episode in which a student repeatedly tried to burn down the school, i immediately recalled ......... at .......... high. a classic line: inspector: i'm here to sack one of your teachers. student: welcome to bromwell high. i expect that many adults of my age think that bromwell high is far fetched. what a pity that it isn't!\n",
      "\n",
      "\n",
      "Sample negative example: story of a man who has unnatural feelings for a pig. starts out with a opening scene that is a terrific example of absurd comedy. a formal orchestra audience is turned into an insane, violent mob by the crazy chantings of it's singers. unfortunately it stays absurd the whole time with no general narrative eventually making it just too off putting. even those from the era should be turned off. the cryptic dialogue would make shakespeare seem easy to a third grader. on a technical level it's better than you might think with some good cinematography by future great vilmos zsigmond. future stars sally kirkland and frederic forrest can be seen briefly.\n"
     ]
    }
   ],
   "source": [
    "import os\n",
    "\n",
    "data_dir = 'aclImdb/'\n",
    "\n",
    "pos_train_dir = data_dir + 'train/pos/'\n",
    "neg_train_dir = data_dir + 'train/neg/'\n",
    "\n",
    "def read_folder(folder):\n",
    "    examples = []\n",
    "    for fname in os.listdir(folder):\n",
    "        with open(os.path.join(folder, fname), encoding='utf8') as f:\n",
    "            examples.append(f.readline().strip())\n",
    "    return examples\n",
    "\n",
    "pos_examples = read_folder(pos_train_dir)\n",
    "neg_examples = read_folder(neg_train_dir)\n",
    "\n",
    "# Load and process test data\n",
    "pos_test_examples = read_folder(data_dir + 'test/pos/')\n",
    "neg_test_examples = read_folder(data_dir + 'test/neg/')\n",
    "\n",
    "# Lower case all\n",
    "pos_examples = [example.lower() for example in pos_examples]\n",
    "neg_examples = [example.lower() for example in neg_examples]\n",
    "pos_test_examples = [example.lower() for example in pos_test_examples]\n",
    "neg_test_examples = [example.lower() for example in neg_test_examples]\n",
    "\n",
    "print('Number of positive examples: {}\\nNumber of negative examples: {}\\n\\n'.format(len(pos_examples), len(neg_examples)))\n",
    "\n",
    "print('Sample positive example: {}\\n\\n'.format(pos_examples[0]))\n",
    "print('Sample negative example: {}'.format(neg_examples[0]))\n"
   ]
  },
  {
   "cell_type": "markdown",
   "metadata": {},
   "source": [
    "Similar to the last task of Homework 1, where we created manual features for our Naive Bayes, create your own features for logistic regression"
   ]
  },
  {
   "cell_type": "markdown",
   "metadata": {},
   "source": [
    "**Task 6 (2P): Create features for your Logistic Regression (PyTorch)**"
   ]
  },
  {
   "cell_type": "code",
   "execution_count": 4,
   "metadata": {},
   "outputs": [
    {
     "name": "stderr",
     "output_type": "stream",
     "text": [
      "C:\\Users\\user\\AppData\\Local\\Temp\\ipykernel_23740\\2984825761.py:41: UserWarning: To copy construct from a tensor, it is recommended to use sourceTensor.clone().detach() or sourceTensor.clone().detach().requires_grad_(True), rather than torch.tensor(sourceTensor).\n",
      "  X = torch.tensor(X, dtype=torch.float32)\n"
     ]
    }
   ],
   "source": [
    "import torch\n",
    "import torch.nn as nn\n",
    "import torch.optim as optim\n",
    "from torch.utils.data import Dataset, DataLoader\n",
    "\n",
    "\n",
    "'''\n",
    "Task 6\n",
    "\n",
    "Create features for your logistic regression: Atleast create a semantic lexicon feature,\n",
    "i.e. assessing the presence of words associated with positive or negative sentiments within your text\n",
    "(e.g. is \"funny\" in test? -> If yes, then 1, else 0).\n",
    "Define (atleast) 5 positive and 5 negative words.\n",
    "\n",
    "2 pts.\n",
    "'''\n",
    "positive_words = [\"happy\", \"funny\", \"exciting\", \"joyful\", \"excellent\", \"good\", \"awesome\", \"terrifying\", \"best\", \"fantastic\"]\n",
    "negative_words = [\"sad\", \"unpleasant\", \"boring\", \"disappointing\", \"poor\", \"horrible\", \"awful\", \"bad\", \"worst\", \"terrible\"]\n",
    "\n",
    "def your_feature(example):\n",
    "    # Check positive / negative word\n",
    "    pos_feature = [1 if word in example else 0 for word in positive_words]\n",
    "    neg_feature = [1 if word in example else 0 for word in negative_words]\n",
    "    \n",
    "    # Convert the feature to a PyTorch tensor\n",
    "    features = pos_feature + neg_feature\n",
    "\n",
    "    # tensor_features = torch.tensor(..., dtype=torch.float32)\n",
    "    tensor_features = torch.tensor(features, dtype=torch.float32)\n",
    "    \n",
    "    return tensor_features\n",
    "\n",
    "# Define a custom dataset\n",
    "class MovieDataset(Dataset):\n",
    "    def __init__(self, pos_examples, neg_examples):\n",
    "        # Preprocess the data\n",
    "        X = torch.stack([your_feature(example) for example in pos_examples + neg_examples])\n",
    "        y = [1] * len(pos_examples) + [0] * len(neg_examples)\n",
    "        \n",
    "        # Convert to PyTorch tensors\n",
    "        X = torch.tensor(X, dtype=torch.float32)\n",
    "        y = torch.tensor(y, dtype=torch.float32)\n",
    "        \n",
    "        self.X = X\n",
    "        self.y = y\n",
    "\n",
    "    def __len__(self):\n",
    "        return len(self.X)\n",
    "\n",
    "    def __getitem__(self, idx):\n",
    "        return self.X[idx], self.y[idx]\n",
    "\n",
    "# Create dataset and dataloader\n",
    "dataset = MovieDataset(pos_examples, neg_examples)\n",
    "dataloader = DataLoader(dataset, batch_size=64, shuffle=True)\n"
   ]
  },
  {
   "cell_type": "markdown",
   "metadata": {},
   "source": [
    "**Task 7 (3P): Train your Logistic Regression**"
   ]
  },
  {
   "cell_type": "code",
   "execution_count": 5,
   "metadata": {},
   "outputs": [
    {
     "name": "stdout",
     "output_type": "stream",
     "text": [
      "Epoch [1/50], Loss: 0.6000\n",
      "Epoch [2/50], Loss: 0.6263\n",
      "Epoch [3/50], Loss: 0.6038\n",
      "Epoch [4/50], Loss: 0.5935\n",
      "Epoch [5/50], Loss: 0.6410\n",
      "Epoch [6/50], Loss: 0.5333\n",
      "Epoch [7/50], Loss: 0.5394\n",
      "Epoch [8/50], Loss: 0.6067\n",
      "Epoch [9/50], Loss: 0.6300\n",
      "Epoch [10/50], Loss: 0.5599\n",
      "Epoch [11/50], Loss: 0.5645\n",
      "Epoch [12/50], Loss: 0.5448\n",
      "Epoch [13/50], Loss: 0.5276\n",
      "Epoch [14/50], Loss: 0.5241\n",
      "Epoch [15/50], Loss: 0.5694\n",
      "Epoch [16/50], Loss: 0.4306\n",
      "Epoch [17/50], Loss: 0.4678\n",
      "Epoch [18/50], Loss: 0.5250\n",
      "Epoch [19/50], Loss: 0.6326\n",
      "Epoch [20/50], Loss: 0.4526\n",
      "Epoch [21/50], Loss: 0.4981\n",
      "Epoch [22/50], Loss: 0.4646\n",
      "Epoch [23/50], Loss: 0.4861\n",
      "Epoch [24/50], Loss: 0.4569\n",
      "Epoch [25/50], Loss: 0.6114\n",
      "Epoch [26/50], Loss: 0.5745\n",
      "Epoch [27/50], Loss: 0.5722\n",
      "Epoch [28/50], Loss: 0.5516\n",
      "Epoch [29/50], Loss: 0.5369\n",
      "Epoch [30/50], Loss: 0.5441\n",
      "Epoch [31/50], Loss: 0.6220\n",
      "Epoch [32/50], Loss: 0.6816\n",
      "Epoch [33/50], Loss: 0.6349\n",
      "Epoch [34/50], Loss: 0.7429\n",
      "Epoch [35/50], Loss: 0.6557\n",
      "Epoch [36/50], Loss: 0.6018\n",
      "Epoch [37/50], Loss: 0.6051\n",
      "Epoch [38/50], Loss: 0.5438\n",
      "Epoch [39/50], Loss: 0.5038\n",
      "Epoch [40/50], Loss: 0.5401\n",
      "Epoch [41/50], Loss: 0.4415\n",
      "Epoch [42/50], Loss: 0.6121\n",
      "Epoch [43/50], Loss: 0.6114\n",
      "Epoch [44/50], Loss: 0.5236\n",
      "Epoch [45/50], Loss: 0.5464\n",
      "Epoch [46/50], Loss: 0.5883\n",
      "Epoch [47/50], Loss: 0.4536\n",
      "Epoch [48/50], Loss: 0.5684\n",
      "Epoch [49/50], Loss: 0.4366\n",
      "Epoch [50/50], Loss: 0.5292\n"
     ]
    }
   ],
   "source": [
    "'''\n",
    "Task 7\n",
    "\n",
    "Train your logistic regression based on the defined dataloader above.\n",
    "\n",
    "3 pts.\n",
    "'''\n",
    "\n",
    "\n",
    "# Define Logistic Regression model or use from above definition\n",
    "# Instantiate the Logistic Regression model\n",
    "input_size = 20\n",
    "model = LogisticRegression(input_size)\n",
    "\n",
    "# Define Cross-Entropy\n",
    "criterion = nn.BCELoss()\n",
    "\n",
    "# Use Adam Optimizer\n",
    "optimizer = optim.Adam(model.parameters(), lr=0.001)\n",
    "\n",
    "# Training loop\n",
    "num_epochs = 50\n",
    "for epoch in range(num_epochs):\n",
    "    for inputs, labels in dataloader:\n",
    "        # Initialize: Zero the gradients\n",
    "        optimizer.zero_grad()\n",
    "\n",
    "        # Forward pass\n",
    "        outputs = model(inputs)\n",
    "    \n",
    "        # Compute the loss\n",
    "        loss = criterion(outputs, labels.unsqueeze(1))  # Ensure labels have the correct shape\n",
    "\n",
    "        # Backward pass (Compute Gradient)\n",
    "        loss.backward()\n",
    "\n",
    "        # Update our parameters, using the learning rate and gradient\n",
    "        optimizer.step()\n",
    "\n",
    "    print(f'Epoch [{epoch + 1}/{num_epochs}], Loss: {loss.item():.4f}')"
   ]
  },
  {
   "cell_type": "markdown",
   "metadata": {},
   "source": [
    "**Tasl 8 (2P): Test your model and calculate accuracy**"
   ]
  },
  {
   "cell_type": "code",
   "execution_count": 6,
   "metadata": {},
   "outputs": [
    {
     "name": "stderr",
     "output_type": "stream",
     "text": [
      "C:\\Users\\user\\AppData\\Local\\Temp\\ipykernel_23740\\2984825761.py:41: UserWarning: To copy construct from a tensor, it is recommended to use sourceTensor.clone().detach() or sourceTensor.clone().detach().requires_grad_(True), rather than torch.tensor(sourceTensor).\n",
      "  X = torch.tensor(X, dtype=torch.float32)\n"
     ]
    },
    {
     "name": "stdout",
     "output_type": "stream",
     "text": [
      "Test Accuracy: 73.12%\n"
     ]
    }
   ],
   "source": [
    "'''\n",
    "Task 8\n",
    "\n",
    "Test your trained LR model on the test set. \n",
    "\n",
    "2 pts.\n",
    "'''\n",
    "# Test set: pos_test_examples, neg_test_examples\n",
    "test_dataset = MovieDataset(pos_test_examples, neg_test_examples)\n",
    "\n",
    "# Define test dataloader\n",
    "test_dataloader = DataLoader(test_dataset, batch_size=64, shuffle=False)\n",
    "\n",
    "# Make predictions on the test set\n",
    "model.eval()  # Set the model to evaluation mode\n",
    "predictions = []\n",
    "ground_truths = []\n",
    "\n",
    "with torch.no_grad():\n",
    "    for inputs, labels in test_dataloader:\n",
    "        # Forward pass\n",
    "        outputs = model(inputs)\n",
    "        \n",
    "        # Convert probabilities to binary predictions (0 or 1)\n",
    "        predicted_classes = (outputs > 0.5).float()\n",
    "        \n",
    "        # Collect predictions and ground truths\n",
    "        predictions.extend(predicted_classes.squeeze().tolist())\n",
    "        ground_truths.extend(labels.tolist())\n",
    "\n",
    "# Predictions and GT are in the same vector form\n",
    "predictions = torch.tensor(predictions)\n",
    "ground_truths = torch.tensor(ground_truths)\n",
    "\n",
    "# Calculate accuracy on the test set\n",
    "correct_predictions = (predictions == ground_truths).sum().item()\n",
    "total_examples = len(test_dataset)\n",
    "accuracy = correct_predictions / total_examples\n",
    "\n",
    "print(f'Test Accuracy: {accuracy * 100:.2f}%')"
   ]
  },
  {
   "cell_type": "markdown",
   "metadata": {},
   "source": [
    "Now to our last task: In homework 01, we saw that defining a bag of words feature is performing much better than defining features manually for Naive Bayes. Let us see, if this also holds for logistic regression."
   ]
  },
  {
   "cell_type": "code",
   "execution_count": 7,
   "metadata": {},
   "outputs": [],
   "source": [
    "from nltk.tokenize import word_tokenize\n",
    "from collections import Counter\n",
    "\n",
    "# Tokenize data\n",
    "pos_examples_tokenized = [word_tokenize(ex) for ex in pos_examples]\n",
    "neg_examples_tokenized = [word_tokenize(ex) for ex in neg_examples]\n",
    "\n",
    "# Top 1000 words to speed up training\n",
    "all_tokenized_words = [word for ex in pos_examples_tokenized for word in ex] + \\\n",
    "    [word for ex in neg_examples_tokenized for word in ex]\n",
    "atw_counter = Counter(all_tokenized_words)\n",
    "top1000 = [tup[0] for tup in atw_counter.most_common(10000)] # A list of the top 1000 most frequent word"
   ]
  },
  {
   "cell_type": "code",
   "execution_count": 8,
   "metadata": {},
   "outputs": [
    {
     "name": "stdout",
     "output_type": "stream",
     "text": [
      "['the', ',', '.', 'and', 'a', 'of', 'to', 'is', '/', '>', '<', 'br', 'it', 'in', 'i', 'this', 'that', \"'s\", 'was', 'as', 'for', 'with', 'movie', 'but', 'film', ')', '(', 'you', 'on', \"n't\", \"''\", '``', 'not', 'are', 'he', 'his', 'have', 'be', 'one', '!', 'at', 'all', 'they', 'by', 'an', 'who', 'from', 'so', 'like', 'there', 'her', 'or', 'just', 'do', 'about', 'has', 'if', 'out', '?', 'what', 'some', 'good', 'when', 'more', 'she', 'very', 'would', 'even', 'my', 'no', 'up', 'can', 'which', 'time', 'only', 'really', 'story', 'had', 'their', 'see', 'were', 'we', 'me', 'did', 'does', \"'\", ':', 'than', '-', '...', 'much', 'well', 'could', 'been', 'get', 'will', 'people', 'also', 'into', 'other', 'because', 'bad', 'great', 'first', 'how', 'most', 'him', 'its', 'then', 'made', 'way', 'make', 'them', 'any', 'too', 'after', 'movies', 'think', '*', 'characters', 'character', 'watch', 'films', ';', 'many', 'two', 'being', 'seen', 'never', 'little', 'where', 'acting', 'plot', 'best', 'love', 'show', 'life', 'know', 'ever', 'your', 'better', 'still', 'here', 'man', 'over', 'off', 'end', 'these', 'say', 'should', 'while', 'why', 'scene', \"'ve\", 'such', '--', 'scenes', 'go', 'something', 'through', 'back', \"'m\", 'those', 'watching', 'real', 'though', 'now', 'thing', 'years', 'actors', 'another', 'before', 'nothing', 'actually', 'new', 'makes', 'work', 'find', 'funny', 'director', 'look', 'few', 'old', 'going', 'same', 'every', 'lot', 'part', 'again', '&', 'us', 'cast', \"'re\", 'quite', 'got', 'want', 'pretty', 'things', 'young', 'world', 'seems', 'around', 'ca', 'however', 'down', 'fact', 'take', 'enough', 'both', 'give', 'may', 'between', 'big', 'original', 'horror', 'thought', 'own', 'without', 'series', 'always', 'right', 'gets', 'long', 'saw', 'come', 'times', 'almost', 'must', 'point', 'family', 'least', 'role', 'action', 'interesting', 'whole', 'comedy', 'bit', 'music', 'guy', 'script', 'done', 'might', 'anything', 'last', 'since', 'feel', 'minutes', \"'ll\", 'far', 'probably', 'performance', 'am', 'kind', 'woman', 'rather', 'girl', 'yet', 'away', 'worst', 'sure', 'anyone', 'making', 'each', 'fun', 'played', 'found', 'having', 'tv', 'although', 'especially', 'our', 'believe', 'comes', 'course', 'day', 'trying', 'goes', 'looks', 'hard', 'different', 'put', \"'d\", 'someone', 'book', 'maybe', 'place', 'let', 'money', 'actor', 'once', 'reason', 'everything', 'shows', 'set', 'ending', 'worth', 'sense', 'main', 'looking', 'true', 'dvd', 'watched', 'job', 'plays', 'everyone', 'screen', 'three', 'john', 'said', 'seem', 'takes', 'instead', 'later', 'play', 'together', 'beautiful', 'during', 'effects', 'himself', 'audience', 'version', 'left', '2', 'seeing', 'night', 'special', 'wife', 'excellent', 'house', 'american', 'idea', '10', 'father', 'nice', 'simply', 'shot', 'else', 'read', 'year', 'high', 'black', 'less', 'completely', 'second', 'poor', 'help', 'fan', 'star', 'war', 'used', 'given', 'hollywood', 'men', 'need', 'try', 'death', 'kids', 'mind', 'enjoy', 'home', 'rest', 'use', 'performances', 'until', 'short', 'women', 'either', 'classic', 'boring', 'along', 'truly', 'friends', 'wrong', 'dead', 'half', 'tell', 'production', 'line', 'couple', 'remember', 'perhaps', 'next', 'start', 'came', 'recommend', 'stupid', 'mean', 'wonderful', 'understand', 'full', '..', 'episode', 'getting', 'moments', 'awful', 'playing', 'camera', 'terrible', 'keep', 'small', 'definitely', 'gives', 'stars', 'often', 'doing', 'sex', 'others', 'early', 'video', 'school', 'person', 'perfect', 'become', 'name', 'finally', 'face', 'human', 'felt', 'yes', 'supposed', 'lines', 'dialogue', 'liked', 'piece', 'itself', 'case', 'lost', 'top', 'absolutely', 'children', 'against', 'entire', 'written', 'certainly', 'went', 'title', 'live', 'head', 'sort', 'budget', 'mother', 'waste', 'boy', 'picture', 'hope', 'problem', 'style', 'several', 'cinema', 'worse', 'overall', 'loved', 'friend', 'evil', 'killer', 'entertaining', 'becomes', 'fans', 'beginning', 'oh', 'white', 'already', 'seemed', 'despite', 'based', 'example', 'lives', 'care', 'dark', 'wanted', 'direction', 'unfortunately', '\\x96', 'throughout', 'final', '3', 'turn', 'michael', 'fine', 'totally', 'amazing', 'drama', 'laugh', 'guess', 'wants', 'sound', 'lead', 'son', 'guys', 'humor', 'tries', 'history', 'called', 'writing', 'low', 'under', 'works', 'turns', 'behind', 'past', 'viewer', 'able', 'enjoyed', 'child', 'quality', 'favorite', 'gave', 'kill', 'game', '1', 'starts', 'sometimes', 'days', 'town', 'today', 'wo', 'act', 'side', 'girls', 'car', 'parts', 'horrible', 'eyes', 'actress', 'soon', 'flick', 'expect', 'obviously', 'kid', 'thinking', 'brilliant', 'genre', 'heart', '....', 'themselves', 'stories', 'directed', 'art', 'city', 'decent', 'myself', 'except', 'run', 'stuff', 'highly', 'late', 'feeling', 'blood', 'fight', 'says', 'close', 'hand', 'god', 'took', 'heard', 'leave', 'killed', 'matter', 'moment', 'daughter', 'particularly', 'roles', 'police', 'strong', 'happens', 'extremely', 'james', 'anyway', 'brother', 'hour', 'lack', 'mr.', 'happened', 'involved', 'including', 'obvious', 'attempt', 'told', 'violence', 'chance', 'living', 'please', 'wonder', 'david', 'complete', 'group', 'save', 'age', 'alone', 'voice', 'coming', 'murder', 'looked', 'score', 'experience', 'none', 'type', 'happen', 'ago', 'number', 'simple', 'slow', 'exactly', 'etc', 'shown', 'whose', 'interest', 'taken', 'hell', 'usually', 'king', 'song', 'husband', 'serious', 'cinematography', 'annoying', 'across', '`', 'sad', 'stop', 'hours', 'somewhat', 'running', 'possible', 'seriously', 'musical', 'ends', 'usual', 'opening', 'gore', 'known', 'yourself', 'crap', 'career', 'hit', 'finds', 'relationship', 'released', 'hero', 'wish', 'started', 'novel', 'robert', 'huge', 'saying', 'scary', 'order', 'mostly', 'change', 'opinion', 'jokes', 'body', 'reality', 'shots', 'ridiculous', 'hilarious', 'cool', 'taking', 'english', 'cut', 'female', 'ones', 'major', 'episodes', 'talking', 'apparently', 'strange', 'call', 'due', 'basically', 'important', 'documentary', 'jack', 'events', 'clearly', 'power', 'knew', 'view', 'supporting', 'knows', 'room', 'talent', 'songs', 'happy', 'turned', 'level', 'ok', 'easily', 'british', 'tells', 'country', 'rating', 'paul', 'single', 'local', 'word', 'attention', 'problems', '4', '5', 'bring', 'silly', 'words', 'television', 'cheap', 'beyond', 'future', 'four', 'sequence', 'light', 'george', 'whether', 'disappointed', 'modern', 'earth', 'falls', 'sets', 'it.', 'miss', 'similar', 'richard', 'five', 'entertainment', 'giving', 'lady', 'needs', 'writer', 'predictable', 'romantic', 'appears', 'upon', 'review', 'comic', 'talk', 'within', 'rock', 'nearly', 'animation', 'feels', 'mention', 'bunch', 'enjoyable', 'theater', 'message', 'lee', 'add', 'lots', 'york', 'points', 'moving', 'using', 'theme', 'actual', 'above', 'ten', 'surprised', 'dull', 'middle', 'named', 'herself', 'team', 'begins', '$', 'sequel', 'among', 'fantastic', 'storyline', 'ways', 'mystery', 'stay', 'comments', 'elements', 'sister', 'tom', 'showing', 'easy', 'typical', 'thriller', 'peter', 'viewers', 'certain', 'sorry', 'clear', 'effort', 'avoid', 'tried', 'french', 'famous', 'fall', 'near', 'release', 'somehow', 'tale', 'means', 'buy', 'hate', 'season', 'movie.', 'doubt', 'kept', 'general', 'straight', 'working', 'form', 'editing', 'oscar', 'greatest', 'leads', 'red', 'soundtrack', 'parents', 'dialog', 'check', 'weak', 'gone', 'class', 'brought', 'filmed', 'figure', 'material', 'disney', 'feature', 'hear', 'particular', 'realistic', 'imagine', 'viewing', 'move', 'eventually', 'fast', 'learn', 'eye', 'atmosphere', 'period', 'film.', 'wait', 'sequences', 'possibly', 'america', 'forget', 'lame', 'decided', 'indeed', 'deal', 'reviews', 'dance', 'space', 'third', 'okay', 'follow', 'whatever', 'became', 'premise', 'die', 'stand', 'japanese', 'surprise', 'zombie', 'sexual', 'sit', 'difficult', 'de', 'subject', 'suspense', 'expected', 'poorly', 'nature', 'nor', 'crime', 'rent', 'joe', 'screenplay', 'average', 'leaves', 'stage', 'truth', 'killing', 'unless', 'reading', 'believable', 'note', 'needed', 'begin', 'meets', 'question', 'romance', 'baby', 'meet', 'directors', 'otherwise', 'shame', 'street', 'realize', 'forced', 'weird', 'emotional', 'dog', 'memorable', 'superb', 'earlier', 'older', 'society', 'minute', 'interested', 'write', 'situation', 'imdb', 'ask', 'credits', 'keeps', 'whom', 'comment', 'jane', 'sounds', 'dramatic', 'footage', 'features', 'towards', 'badly', 'beauty', 'previous', 'brings', 'total', 'crazy', 'incredibly', 'writers', 'male', 'laughs', 'free', 'plenty', 'creepy', 'quickly', 'hot', 'plus', 'personal', 'worked', 'cheesy', 'directing', 'result', 'admit', 'development', 'bill', 'perfectly', 'mark', 'unique', 'return', 'deep', 'leading', 'monster', 'appear', 'hardly', 'hands', 'casting', 'meant', 'apart', 'ben', 'open', 'christmas', 'setting', 'various', 'effect', 'boys', 'background', 'mess', 'dream', '20', 'create', 'doctor', 'potential', 'powerful', 'battle', 'business', 'forward', 'william', 'outside', 'portrayed', 'fire', 'inside', 'fails', 'fairly', 'ideas', 'joke', 'fantasy', 'dumb', 'missing', 'deserves', 'attempts', 'expecting', 'present', 'b', 'manages', 'unlike', 'gay', 'villain', 'fighting', 'political', 'secret', 'air', 'pay', 'twist', 'nudity', 'scott', 'rich', 'masterpiece', 'recently', 'reasons', 'break', 'married', 'girlfriend', 'box', 'front', 'remake', 'further', 'sadly', 'acted', 'talented', 'agree', 'copy', 'western', 'success', 'telling', 'cop', 'filmmakers', 'plain', 'cute', 'pure', 'match', 'crew', 'incredible', 'following', 'spoilers', 'public', 'missed', \"'the\", 'dr.', 'caught', 'odd', 'decides', 'waiting', 'large', 'considering', 'brothers', 'mentioned', 'social', 's', 'flat', 'ended', 'wasted', 'uses', 'popular', 'mary', 'members', 'sci-fi', 'sweet', 'slightly', 'hold', 'era', 'pace', 'compared', 'suddenly', 'sees', 'neither', 'wrote', 'spent', 'rate', 'entirely', 'created', 'intelligent', 'familiar', 'escape', 'list', 'kills', 'tension', 'bored', 'convincing', 'office', 'tony', 'island', 'party', 'moves', 'credit', 'ultimately', 'spirit', 'clever', 'cartoon', 'visual', 'revenge', 'basic', 'water', 'fear', 'laughing', 'biggest', 'successful', '80', 'consider', 'recent', 'la', 'gun', '30', 'spend', 'band', 'singing', 'trouble', 'died', 'positive', 'violent', 'cover', 'dancing', 'appreciate', 'cold', 'choice', 'former', 'state', 'science', 'concept', 'cat', 'filled', 'portrayal', 'language', 'exciting', 'produced', 'value', 'younger', 'speak', 'company', 'studio', 'zombies', 'common', 'solid', 'bizarre', 'amusing', 'walk', 'follows', 'amount', 'focus', 'effective', 'animated', 'showed', 'adult', 'italian', 'planet', 'german', 'books', 'tone', 'fit', 'van', 'impressive', 'runs', 'store', 'impossible', 'considered', 'pointless', 'chemistry', 'jim', 'won', 'leaving', 'decide', 'college', 'win', 'barely', 'control', 'prison', 'mad', 'depth', 'somewhere', 'producers', 'steve', 'project', 'century', 'changed', 'recommended', 'force', 'awesome', 'situations', 'respect', 'hair', 'dad', 'trip', 'aside', 'cause', 'starring', 'smith', 'failed', 'audiences', 'honest', 'sick', 'shooting', 'generally', 'accent', 'longer', '90', 'questions', 'thanks', '7', 'likes', 'surprisingly', 'disturbing', 'charming', 'images', 'literally', 'trash', '8', 'ghost', 'involving', 'slasher', 'conclusion', 'immediately', 'values', 'yeah', 'utterly', 'harry', 'fake', 'bought', 'frank', 'south', 'honestly', 'magic', 'touch', 'west', 'alive', 'glad', 'stewart', 'adventure', 'sam', 'pathetic', '%', 'culture', 'nobody', 'computer', 'aspect', 'adaptation', 'ability', 'sitting', 'fair', 'pictures', 'natural', 'london', 'appearance', 'explain', 'personally', 'stick', 'knowing', 'camp', 'remains', 'cult', 'tough', 'master', 'added', 'detective', 'charlie', '15', 'thinks', 'meaning', 'genius', 'catch', 'rare', 'appeal', 'humour', 'army', 'walking', 'normal', 'garbage', 'military', 'comedies', 'thank', 'silent', 'equally', 'terms', 'sexy', 'dreams', 'beautifully', 'taste', 'journey', 'managed', 'chase', 'attack', 'subtle', 'channel', 'touching', 'purpose', 'nowhere', 'twists', 'standard', 'pick', 'terrific', 'week', 'naked', 'complex', 'kelly', 'likely', 'mood', 'soldiers', 'excuse', 'batman', 'surely', 'lovely', 'unbelievable', 'thus', 'themes', 'chris', 'fully', 'christopher', 'fiction', 'narrative', 'plan', 'constantly', 'outstanding', 'cinematic', 'club', 'brain', 'wild', 'contains', 'laughable', 'wow', 'central', 'road', 'issues', 'slowly', 'disappointing', 'innocent', 'hoping', 'charles', 'self', 'costumes', 'pass', 'presented', 'thrown', 'date', 'victim', 'painful', 'besides', 'everybody', 'marriage', 'places', 'stunning', 'law', 'presence', 'mysterious', 'historical', 'details', 'mistake', 'edge', 'animals', 'door', 'loves', 'impression', 'bottom', 'government', 'boss', 'minor', 'shoot', 'photography', 'stands', 'justice', 'vampire', 'woods', 'henry', 'sent', 'charm', 'allen', 'spoiler', 'gang', 'climax', 'critics', 'hey', 'mainly', '100', 'aspects', 'makers', 'soul', 'cry', 'indian', 'color', 'finish', 'church', 'exception', 'expectations', 'ride', 'festival', 'brief', 'manner', 'rated', 'loud', 'train', 'suppose', 'filming', 'scenery', 'support', 'ahead', 'element', 'feelings', 'bother', 'bruce', 'heavy', 'throw', 'na', 'intended', 'opportunity', 'fascinating', 'acts', 'pieces', 'hotel', 'award', 'paris', 'drawn', 'track', 'changes', 'puts', 'available', 'serial', 'names', 'building', 'twice', 'emotions', 'disappointment', 'falling', 'smart', 'hurt', '#', 'jerry', 'include', 'suggest', 'tired', 'green', 'speaking', 'emotion', 't', 'student', 'compelling', 'blue', 'forever', 'followed', 'confused', 'dies', 'producer', 'likable', 'pain', '70', '9', 'gorgeous', 'billy', 'appeared', 'motion', 'bed', 'image', 'giant', 'developed', 'laughed', 'difference', '50', 'jones', 'trailer', 'approach', 'lacks', 'arthur', 'supposedly', 'fellow', 'happening', 'offer', 'adults', 'share', 'martin', 'lover', 'impact', 'grade', 'fresh', 'notice', 'mom', '6', 'system', 'confusing', 'park', 'page', 'million', 'summer', 'merely', 'proves', 'wondering', 'bar', 'helps', 'answer', 'drive', 'funniest', 'boyfriend', 'students', 'putting', 'moral', 'relationships', 'al', 'random', 'mediocre', 'lighting', 'murders', 'key', 'zero', 'mix', 'don', 'victims', 'creative', 'delivers', 'noir', 'content', 'damn', 'opera', 'christian', 'ii', 'alien', 'numbers', 'hospital', 'event', 'born', 'absolute', 'ray', 'paid', 'finding', 'provides', 'gem', 'drug', 'childhood', 'thoroughly', 'davis', 'lived', 'reminded', 'becoming', 'shock', 'tragedy', 'addition', 'alan', 'land', 'imagination', 'seemingly', 'impressed', 'negative', 'fell', 'thats', 'offers', 'holes', 'flaws', 'agent', 'flying', 'race', 'attractive', 'lose', 'ugly', 'flicks', 'extreme', 'latter', 'brian', 'williams', 'tragic', 'six', 'mr', 'stuck', 'standards', 'intense', 'nasty', 'folks', 'porn', 'hidden', 'rented', 'adds', 'held', 'ship', 'afraid', 'faces', 'soldier', 'spot', 'stone', 'turning', 'industry', 'cliché', 'rape', 'therefore', 'pull', 'lord', 'forgotten', 'seconds', 'detail', 'beat', 'jackson', 'queen', 'artistic', 'count', 'angry', 'step', 'actresses', 'collection', 'super', 'affair', 'design', 'uncle', 'danny', 'onto', 'asks', 'castle', 'picked', 'bond', 'describe', 'favourite', 'filmmaker', 'lets', 'led', 'americans', 'jason', 'seven', 'ready', 'stephen', 'information', 'shocking', 'area', 'scientist', 'animal', 'redeeming', 'grace', 'states', 'wooden', 'carry', 'games', 'deliver', 'news', 'fashion', 'allowed', 'compare', 'location', 'thin', 'personality', 'struggle', 'inspired', 'ground', 'includes', 'clothes', 'helped', 'apartment', 'listen', 'teenage', 'deeply', 'wonderfully', 'member', 'willing', 'dirty', 'fox', 'moved', 'chinese', 'criminal', 'trust', 'desperate', 'anymore', 'martial', 'wars', 'intelligence', 'quick', 'captain', 'professional', 'ed', 'andy', 'artist', 'direct', '.....', 'began', '40', 'rarely', 'plane', 'tears', 'douglas', 'double', 'food', 'drugs', 'heaven', 'worthy', 'theatre', 'treat', 'cgi', 'commentary', 'wearing', 'superior', 'necessary', 'introduced', 'nightmare', 'anybody', 'humans', 'dying', 'realized', 'energy', 'teacher', 'johnny', 'allow', 'eddie', 'comedic', 'unusual', 'phone', 'mental', 'apparent', 'tim', 'epic', 'continue', 'creature', 'time.', 'independent', 'sky', 'wall', 'physical', 'warning', 'station', 'desire', 'technical', 'accident', 'keaton', 'returns', 'normally', 'provide', 'mouth', 'ford', 'fred', 'limited', 'adam', 'sight', 'taylor', 'remarkable', 'witch', 'skip', 'joan', 'ring', 'accept', 'pleasure', 'powers', 'arts', 'engaging', 'brutal', 'suspect', 'scared', 'prince', 'actions', 'disaster', 'wanting', 'surprising', 'reminds', 'sleep', 'devil', 'machine', 'academy', 'intriguing', 'search', 'holds', 'bloody', 'wedding', 'somebody', 'according', 'jeff', 'hitler', 'build', 'russian', 'england', 'unnecessary', 'pacing', 'whatsoever', 'asked', 'heroes', 'cops', 'hated', 'superman', 'bits', 'anywhere', 'absurd', 'dick', 'constant', 'vision', 'finished', 'suit', 'nick', 'suicide', 'passion', 'extra', 'process', 'nicely', 'grand', 'originally', 'media', 'roll', 'sat', 'religious', 'memory', 'faith', 'cage', 'kevin', 'growing', 'joy', 'instance', 'dangerous', 'met', 'legend', 'blame', 'shakespeare', 'clichés', 'ladies', 'toward', 'gotten', 'watchable', 'deserve', 'explanation', 'freddy', 'exist', 'winning', 'pilot', 'lies', 'unknown', 'whilst', 'smile', 'ms.', 'dressed', 'capture', 'quiet', 'price', 'starting', 'torture', 'players', 'river', 'jump', 'kate', 'accurate', 'teen', 'creating', 'japan', 'jesus', 'fail', 'tarzan', 'community', 'featuring', 'heroine', 'mike', 'moon', 'player', 'responsible', 'friendship', 'officer', 'cars', 'heads', 'knowledge', 'pulled', 'lovers', 'record', 'saved', 'judge', 'guns', 'keeping', 'jimmy', 'kinda', 'finest', 'memories', 'hopes', 'fights', 'radio', 'humanity', 'european', 'sucks', 'higher', 'lacking', 'horse', 'morgan', 'jean', 'lynch', 'santa', 'gene', 'issue', 'pop', 'low-budget', 'manage', 'vhs', 'understanding', 'explained', 'terribly', 'washington', 'treated', 'field', 'whenever', 'numerous', 'eat', 'simon', 'delightful', 'months', 'mixed', 'villains', 'floor', 'loose', 'sign', 'broken', 'loving', 'bland', 'gary', 'deserved', 'screaming', 'loss', 'included', 'witty', 'drunk', 'ann', 'naturally', 'discover', 'prove', 'fat', '10/10', 'forces', 'hits', 'reviewers', 'private', 'author', 'cable', 'eric', 'brown', 'empty', 'conflict', 'pretentious', 'spanish', 'bob', 'noticed', 'partner', 'opposite', 'monsters', 'sean', 'streets', 'wind', 'skills', 'loses', 'ball', 'psychological', 'mine', 'regular', 'dated', 'driving', 'portray', 'werewolf', 'discovered', 'fate', 'saving', 'aware', 'blonde', 'albert', 'unfunny', 'youth', 'anthony', 'cuts', 'calls', 'bigger', 'talents', 'opens', 'locations', 'gold', 'grant', 'bright', 'dealing', 'ordinary', 'howard', 'visit', 'concerned', 'international', 'breaks', 'jennifer', 'continues', 'perspective', 'magnificent', 'below', 'essentially', 'morning', 'visually', 'soap', 'deals', 'humorous', 'dan', 'captured', 'gags', 'satire', 'occasionally', 'frankly', 'shallow', 'received', 'length', 'kong', 'results', 'curious', 'rubbish', 'connection', 'miles', 'traditional', 'current', 'wood', 'realism', 'candy', 'genuine', 'advice', 'debut', 'golden', 'harris', 'murdered', 'learned', 'owner', 'sing', 'trek', 'behavior', 'shop', 'genuinely', 'mission', 'allows', 'nonsense', 'singer', 'corny', 'cameo', 'rob', 'versions', 'bank', 'segment', 'lesson', 'scream', 'visuals', 'revealed', 'luke', 'welles', 'anna', 'proved', 'context', 'stock', 'grew', 'unable', 'finale', 'sheer', 'favor', 'film-making', 'blind', 'develop', 'unexpected', 'program', 'ultimate', 'survive', 'identity', 'meanwhile', 'steal', 'study', 'national', 'gangster', 'decade', 'remembered', 'ages', 'formula', 'references', 'reach', '1/2', 'sudden', 'president', 'drew', 'robin', 'brilliantly', 'board', 'passed', 'window', 'village', 'cross', 'sea', 'them.', 'gon', 'vampires', 'awkward', 'spectacular', 'sucked', 'wise', 'sake', 'bet', 'strength', 'logic', 'discovers', 'luck', 'ice', 'efforts', 'desert', 'existence', 'delivered', 'plots', 'utter', 'types', 'crappy', 'steven', 'barbara', 'creates', 'reaction', 'majority', 'reviewer', 'leader', 'lake', 'parker', 'stereotypes', 'standing', 'sheriff', '60', 'thomas', 'lucky', 'pair', 'insane', 'woody', 'ran', 'awards', 'dreadful', 'killers', 'caused', 'rose', '12', 'fault', 'painfully', 'sinatra', 'site', 'relate', 'boat', 'emotionally', 'graphic', 'gratuitous', 'meeting', 'nevertheless', 'victor', 'practically', 'families', 'edited', 'travel', 'relief', 'wayne', 'bear', 'technology', 'speed', 'protagonist', 'pleasant', 'comparison', 'evening', 'foreign', 'anime', 'buddy', 'jr.', 'endless', 'f', 'underrated', 'flashbacks', 'decision', 'test', 'joseph', 'failure', 'twenty', 'overly', 'ancient', 'individual', 'attitude', 'gory', 'combination', 'laughter', 'jackie', 'victoria', 'portrays', 'native', 'described', 'religion', 'daniel', 'freedom', 'alex', 'cinderella', 'assume', 'foot', 'treatment', 'feet', 'eating', 'france', 'vehicle', 'entertained', 'chosen', 'hunter', 'asking', 'wide', 'stopped', 'gordon', 'parody', 'believes', 'halloween', 'seasons', 'largely', 'learns', 'proper', 'hearing', 'portraying', 'commercial', 'chief', 'matt', 'choose', 'executed', 'broadway', 'hill', 'marry', 'range', 'capable', 'sell', 'wit', 'moore', 'tape', 'fill', 'rules', 'excited', 'handsome', 'marie', 'involves', 'model', 'costs', 'roy', 'nancy', 'generation', 'unrealistic', 'recall', 'haunting', 'ryan', 'kick', 'produce', 'extras', '80s', 'anne', 'appealing', 'irritating', 'fame', 'patrick', 'theaters', 'strongly', 'levels', 'center', 'product', 'theatrical', 'suffering', 'cares', 'louis', 'contrived', 'grow', 'depressing', 'ruined', 'classics', 'anderson', 'post', 'rise', 'sympathetic', 'built', 'clue', 'priest', 'research', 'rescue', 'destroy', 'appropriate', 'sequels', 'contrast', 'heck', 'losing', 'winner', 'disgusting', 'round', 'claim', 'embarrassing', 'lewis', '8/10', 'matters', 'lousy', 'evidence', 'germany', 'teenager', 'vote', 'captures', 'bringing', 'naive', 'facts', 'clean', 'uk', 'cash', 'costume', 'talks', 'angel', 'walter', 'sports', 'correct', 'hanging', 'tend', 'chick', 'voices', 'oliver', 'canadian', 'dry', 'hopefully', 'asian', 'thoughts', 'europe', 'training', 'virtually', 'pity', 'grown', 'relatively', 'walks', 'horribly', 'exploitation', 'mask', 'football', 'fool', 'steals', 'safe', 'obsessed', 'fly', 'saturday', 'convinced', 'cost', 'crowd', 'universal', 'fits', 'bomb', 'scare', 'spoil', 'haunted', 'dubbed', 'promise', 'bodies', 'tiny', 'excitement', 'depicted', 'initial', 'frame', 'powell', 'murphy', 'insult', 'u.s.', 'circumstances', 'satisfying', '70s', 'remain', 'creatures', 'asleep', 'send', 'russell', 'continuity', 'reporter', 'max', 'amateurish', 'provided', 'teenagers', 'psycho', 'united', 'kim', 'flesh', 'tedious', 'hunt', 'trilogy', 'lower', 'unfortunate', 'influence', 'holding', 'r', 'baseball', 'africa', 'robot', 'substance', 'lawyer', 'nominated', 'd', 'presents', 'market', 'him.', 'unlikely', 'contemporary', 'danger', 'soft', 'closer', 'touches', '11', 'viewed', 'till', 'texas', 'cowboy', 'hide', 'hall', 'hitchcock', 'north', 'australian', 'politics', 'roger', 'shocked', 'handled', 'plans', 'i.e', 'drag', 'serves', 'refreshing', 'witness', 'offensive', 'professor', 'fu', 'source', 'sisters', 'structure', 'caine', 'che', 'latest', 'edward', 'surreal', 'category', 'display', 'promising', 'suffers', 'fare', 'ruin', 'repeated', 'chose', 'amateur', 'pacino', 'welcome', 'seat', 'claims', 'granted', 'cartoons', 'pile', 'speaks', 'previously', 'deaths', 'movement', 'warm', 'realizes', 'weekend', 'brave', 'cant', 'clark', 'target', 'accents', 'emma', 'deadly', 'colors', 'whoever', 'factor', 'supernatural', 'surprises', 'believed', 'qualities', 'over-the-top', 'accidentally', 'columbo', 'rain', 'wilson', 'angles', 'experiences', 'convince', 'rental', 'degree', 'harsh', 'etc.', 'covered', 'makeup', 'veteran', 'weeks', 'service', 'alice', 'adventures', 'routine', 'speech', 'ass', 'designed', 'highlight', 'mistakes', '7/10', 'recognize', 'draw', 'hat', 'twisted', 'skin', 'make-up', 'enemy', 'uninteresting', 'ted', 'propaganda', 'aka', 'well.', 'dollars', 'paper', 'lesbian', 'struggling', 'dogs', 'occasional', 'directly', 'nude', 'technically', 'magical', 'print', 'mainstream', 'walked', 'mgm', 'invisible', 'atrocious', 'enter', 'committed', 'princess', 'section', 'massive', 'guilty', 'peace', 'sympathy', 'kinds', 'combined', 'focused', 'donald', 'pitt', 'narration', 'mrs.', 'security', 'offered', 'universe', 'explains', 'breaking', 'sarah', 'treasure', 'irish', 'friday', 'sharp', 'sorts', 'featured', 'remotely', 'prior', 'spends', 'suspenseful', 'reveal', 'legendary', 'terror', 'regret', 'multiple', 'path', 'gritty', 'anger', 'prime', 'fairy', 'blah', 'variety', 'forgettable', 'inner', 'abuse', 'false', 'lonely', 'figured', 'experienced', 'crying', 'downright', 'hong', 'exact', 'stolen', 'rachel', 'one.', 'frightening', 'execution', 'express', 'crash', 'freeman', 'driver', 'reputation', 'johnson', 'abandoned', 'fictional', 'aliens', 'insight', 'conversation', 'performed', 'susan', 'mountain', 'sunday', 'theory', 'surface', 'passing', 'hoffman', 'forest', 'branagh', 'titanic', 'story.', 'melodrama', 'birth', 'teens', 'dean', 'eight', 'figures', 'bothered', 'bourne', 'jon', 'rings', 'china', 'effectively', 'erotic', 'julia', 'dozen', 'pulls', 'chan', 'beach', 'statement', 'paced', 'core', 'gas', 'listening', 'paint', 'blow', 'lugosi', 'required', 'crude', 'ai', 'drop', 'grim', 'network', 'von', 'larry', 'reveals', 'account', 'cutting', 'stays', 'subtitles', 'hired', 'significant', 'foster', 'rule', 'ron', 'stayed', 'sir', 'trapped', 'all.', 'darkness', 'california', 'urban', 'proud', 'paying', 'favorites', 'everywhere', 'jobs', 'spy', 'afternoon', 'lisa', 'mere', 'amazed', 'focuses', 'necessarily', 'department', 'burns', 'wear', 'buying', 'b-movie', 'dragon', 'rights', 'mexico', 'worthwhile', 'spite', 'forth', 'imagery', 'thankfully', 'me.', 'alright', 'bus', 'quest', 'dude', 'scale', 'unconvincing', 'court', 'african', 'code', 'scares', 'changing', 'delivery', 'heavily', 'matrix', 'clichéd', 'mature', 'grave', 'nation', 'ned', 'sidney', 'fabulous', 'facial', 'examples', 'desperately', 'and/or', 'skill', 'minds', 'vietnam', 'ghosts', 'junk', 'lights', 'scenario', 'interview', 'warner', 'forgot', 'lifetime', 'idiot', 'blockbuster', 'destroyed', 'summary', 'belief', 'driven', 'closing', 'suffer', 'san', 'demons', 'revolution', 'hardy', 'faithful', 'metal', 'device', 'reminiscent', 'beloved', 'angle', 'vs.', 'placed', 'beast', 'seek', 'sounded', 'position', 'dennis', 'maria', 'mexican', 'teeth', 'artists', 'views', '10.', 'ignore', 'happiness', 'cruel', 'studios', 'brad', 'initially', 'deeper', 'julie', 'jungle', 'prefer', 'extraordinary', 'amazingly', 'greater', 'helping', 'sensitive', 'musicals', 'claire', 'slapstick', 'leslie', 'achieve', 'campy', 'table', 'flashback', 'murderer', 'elizabeth', 'learning', 'regarding', 'complicated', 'raw', 'rolling', 'renting', 'league', 'understood', 'inept', 'halfway', 'pregnant', 'expert', 'description', 'settings', 'india', 'encounter', 'notorious', 'bore', 'depiction', 'stereotypical', 'this.', 'fourth', 'aunt', 'convey', 'format', 'sleeping', 'productions', 'critical', 'racist', 'appreciated', 'criminals', 'underground', 'picks', 'indie', 'purely', 'funnier', 'jessica', 'sandler', 'decades', 'status', 'disbelief', 'touched', 'expression', 'cultural', 'sun', 'drinking', 'rough', 'calling', 'mildly', 'shadow', 'quirky', 'answers', 'entertain', 'buck', 'prepared', 'truck', 'comical', 'starred', 'honor', 'criticism', 'throws', 'join', 'dress', 'serve', 'michelle', 'via', 'notable', 'throwing', 'suck', 'basis', 'bbc', 'lincoln', '4/10', 'choices', 'task', 'introduction', 'blown', 'adding', 'warned', 'strangely', 'kung', 'friendly', 'storytelling', 'stanley', 'bollywood', 'protect', 'cooper', 'raised', 'originality', 'rip', 'cabin', 'lazy', 'jail', 'arms', 'burt', 'sword', 'brooks', 'succeeds', 'causes', 'fallen', 'miller', 'extent', 'everyday', 'daughters', 'amongst', 'cell', 'graphics', 'kiss', 'wears', 'lie', 'carrying', 'environment', 'handle', 'carried', 'breathtaking', 'inspiration', 'praise', 'so-called', 'base', 'regard', 'caring', 'intellectual', 'weapons', 'carries', 'spoof', '1950', 'nazi', 'attempting', 'charge', 'flight', 'challenge', 'related', 'gruesome', 'daily', 'enjoying', 'properly', 'lane', 'experiment', 'ludicrous', 'turkey', '25', 'blair', 'lion', '3/10', 'bettie', '14', 'alas', 'embarrassed', 'needless', 'replaced', 'laura', 'screening', 'midnight', 'breath', 'sinister', 'rogers', 'stanwyck', 'tracy', 'chilling', 'arrives', 'interpretation', 'ironic', 'tree', 'sleazy', 'reed', 'southern', 'determined', 'philip', 'pet', 'obnoxious', 'navy', 'shut', 'novels', 'tradition', 'sitcom', 'carpenter', 'tales', 'wins', 'reference', 'wave', 'raise', 'escapes', 'out.', '1/10', 'obsession', 'interviews', 'nowadays', '1980', 'ha', 'locked', 'that.', 'remote', 'x', 'clips', 'essential', 'attacked', 'cases', 'tight', 'lucy', 'mirror', 'demon', 'sutherland', 'inspector', 'marvelous', 'jumps', 'exists', 'trick', 'punch', 'albeit', 'way.', 'fortunately', 'guard', 'served', 'jake', 'holmes', 'westerns', 'remind', 'successfully', 'busy', 'authentic', 'oddly', 'timing', 'sold', 'mansion', 'stylish', 'christ', '2.', 'contain', 'angels', 'stops', 'goofy', 'brando', 'frequently', 'rival', 'legs', 'established', 'ratings', 'flow', 'ashamed', 'ill', 'bo', 'risk', 'dollar', 'sum', 'matthau', 'flawed', 'horrific', 'patient', 'hence', 'intensity', 'bette', 'term', 'comedian', 'balance', 'revolves', 'jewish', 'refuses', 'u', 'drives', 'manager', 'hood', 'stupidity', 'baker', 'warn', 'overcome', 'upset', 'sides', 'stomach', 'suspects', 'bridge', 'jay', 'struggles', 'here.', 'cook', 'widmark', 'cynical', 'greatly', 'mentally', 'lesser', 'delight', 'expressions', 'shower', 'confusion', 'titles', 'lessons', 'presentation', 'spoken', 'life.', 'vacation', 'wishes', 'madness', 'helen', 'sullivan', 'seagal', 'elvis', 'tense', 'intentions', 'thousands', 'wealthy', 'nonetheless', 'grey', 'poignant', 'mindless', 'par', 'topic', 'mob', 'attacks', 'riding', 'thief', 'rochester', 'retarded', 'suffered', 'toy', 'gross', '13', '9/10', 'chair', 'bitter', 'personalities', 'usa', 'stranger', 'wan', 'internet', 'fbi', 'derek', 'end.', 'streisand', 'thrilling', 'andrews', 'dinner', 'bound', 'seeking', 'whereas', 'storm', 'franchise', 'adapted', 'hundreds', 'hole', 'glimpse', 'controversial', 'opened', 'advantage', 'chaplin', 'wasting', 'bugs', 'racism', 'medical', 'broke', 'courage', 'trite', 'spielberg', 'mass', 'hint', 'corner', 'guessing', 'kurt', 'countries', 'separate', 'credibility', 'atmospheric', 'italy', 'physically', 'contact', 'dubbing', 'perform', 'infamous', 'dentist', 'sings', 'happily', 'hills', 'uncomfortable', 'pride', 'mouse', 'nelson', 'text', 'gripping', 'dislike', 'andrew', 'pool', 'innocence', 'curse', 'shines', 'trial', 'noble', 'screenwriter', 'millions', 'shape', 'letting', 'protagonists', 'suggests', 'credible', 'c', 'o', '1970', 'elvira', 'glass', 'east', 'arnold', 'ralph', 'flynn', 'sexuality', 'host', 'troubled', 'crisis', 'oscars', 'hundred', 'exceptional', 'stretch', 'performers', 'technique', 'consists', 'britain', 'again.', 'ensemble', 'idiotic', 'steps', 'drink', 'tied', 'holiday', 'catholic', 'lovable', 'burton', 'lying', 'worlds', 'horses', 'portrait', 'noted', 'shorts', 'sons', 'vincent', 'develops', 'virgin', 'reunion', 'torn', 'saves', 'gain', 'meaningful', 'quote', 'repeat', 'card', 'neat', 'enjoyment', 'attraction', 'weapon', 'arm', 'unforgettable', 'proof', 'lucas', 'cube', 'assistant', '1950s', 'cameos', 'plastic', 'glover', 'boll', 'succeed', 'searching', 'catherine', 'sentimental', 'roberts', 'miscast', 'chuck', 'scripts', 'pat', 'concert', 'accepted', 'hiding', 'cousin', 'sin', 'stan', 'belongs', 'entry', 'denzel', 'annoyed', 'colorful', 'connected', 'spots', 'concerns', 'ta', 'one-liners', 'wwii', 'imaginative', 'irony', 'fortune', 'bag', 'dialogs', 'mst3k', 'snow', 'complaint', 'aged', 'hoped', 'aired', 'guts', 'dear', 'fish', 'sends', 'worry', 'bears', 'dorothy', 'lloyd', 'curtis', 'walken', 'ourselves', 'writer/director', 'closely', 'neighborhood', 'achieved', 'checking', 'redemption', 'hanks', 'solve', 'chases', 'bat', 'encounters', 'endearing', 'appearances', 'jeremy', 'scientists', 'homeless', 'bobby', 'nine', 'eerie', 'thrillers', 'karloff', 'flaw', 'dealt', 'dig', 'equal', 'hudson', 'oil', 'tour', 'segments', 'object', 'pack', 'striking', '2000', 'factory', 'teach', 'terrifying', '1st', 'pitch', 'eva', 'dragged', 'believing', 'dare', 'on.', 'condition', 'cusack', 'library', 'battles', 'appearing', 'profound', 'cheese', 'civil', 'tune', 'hamlet', 'month', '2006', 'essence', 'charisma', 'hunting', 'tribute', 'hooked', 'crimes', 'neighbor', 'pointed', 'strikes', 'doc', 'covers', 'countless', 'laid', 'carol', 'stunts', 'silver', 'expensive', 'massacre', 'is.', 'heston', 'surrounding', 'briefly', 'thousand', 'crafted', 'hang', 'perfection', 'surrounded', 'slight', 'shoots', 'canada', 'sally', 'videos', 'rocks', 'glory', 'competent', 'dancer', 'knife', 'ritter', 'winter', 'incoherent', 'rush', 'rushed', 'zone', 'attempted', 'reactions', 'admittedly', 'wing', 'chasing', 'spike', 'stood', 'barry', 'tons', 'split', 'magazine', 'ripped', 'elsewhere', 'charismatic', 'workers', 'spending', 'stronger', 'specific', 'guest', 'chances', 'neck', 'eastwood', 'horrendous', 'intention', 'birthday', 'dawn', 'attached', 'c.', 'grows', 'sexually', 'stealing', 'boredom', 'burning', 'associated', 'miike', 'gag', 'messages', 'corrupt', 'unintentionally', 'easier', 'wake', 'forgive', 'ian', 'colour', 'shall', 'university', 'virus', 'stated', 'kane', 'per', 'nose', 'health', 'trade', 'requires', 'j.', 'beating', 'noise', 'pie', 'guilt', 'tricks', 'cole', 'iii', 'secretary', 'plague', 'walls', 'bakshi', 'revelation', 'increasingly', 'gothic', 'typically', 'exercise', 'godfather', 'importance', 'hearts', 'identify', 'painting', 'kicks', 'dropped', 'goal', 'drags', 'carrey', 'luckily', 'jesse', 'duke', 'reynolds', 'loser', 'vague', 'hip', 'cardboard', 'performing', 'relevant', 'techniques', 'carefully', 'stunt', 'represents', 'kubrick', 'faced', 'le', 'weight', 'enters', 'gift', 'fired', 'allowing', 'homage', 'executive', 'dramas', 'shining', 'mild', 'row', 'cox', 'dawson', 'fifteen', 'kidnapped', 'importantly', 'instantly', 'carter', 'savage', 'killings', 'presumably', 'bush', '2001', 'medium', 'basement', 'fitting', 'commit', 'strictly', 'fisher', 'jamie', 'must-see', 'acceptable', 'wondered', 'continued', 'hype', 'tea', 'inevitable', 'kudos', 'sophisticated', '......', 'bride', 'joey', 'notch', 'disagree', 'handful', 'persona', 'competition', 'tremendous', 'brand', 'nights', 'contract', 'aforementioned', 'lab', 'brosnan', 'lily', 'good.', '1.', 'partly', 'real-life', 'occurs', 'realise', 'pleased', 'relative', 'letter', 'projects', 'fears', 'thumbs', 'doors', 'pushed', 'investigation', 'buried', 'strip', '’', 'cruise', 'norman', 'wonders', 'nuclear', 'packed', 'planning', 'talked', 'frustrated', 'strike', 'resolution', 'overlooked', 'returning', 'toilet', 'listed', 'pleasantly', '18', 'breasts', 'korean', 'australia', 'huh', 'flash', 'hitting', 'destruction', 'arrested', 'worthless', 'admire', 'there.', 'bible', 'mafia', 'prevent', 'superbly', 'highlights', 'press', 'estate', '17', 'digital', 'spell', 'ward', 'outrageous', 'creation', 'evident', 'burn', 'accused', 'guide', 'silence', 'thrills', 'brilliance', 'flawless', 'splendid', 'opposed', 'menacing', 'lou', 'comics', 'mitchell', 'regardless', '1970s', 'con', 'stiff', 'larger', 'grandmother', 'non-existent', 'ironically', 'attracted', 'bullets', 'shy', 'picking', 'boxing', 'neil', 'goldberg', 'modesty', 'emily', 'blob', 'characterization', 'inspiring', 'jumping', 'revealing', 'fatal', 'photographed', 'spiritual', 'struck', 'directorial', 'cup', 'beings', 'curiosity', 'union', 'subsequent', 'psychiatrist', 'creators', 'alexander', 'los', 'response', 'appalling', 'francisco', 'jerk', 'useless', 'ken', 'astaire', 'heat', 'critic', 'corpse', 'intrigued', 'nurse', 'notes', 'sole', 'diamond', 'ruth', 'ticket', 'manhattan', '1990', 'poverty', 'precious', 'monkey', 'suits', 'installment', 'subplot', 'spooky', 'spring', 'bucks', 'duo', 'lacked', 'raped', 'accomplished', 'individuals', 'felix', 'melodramatic', 'davies', 'turner', 'slightest', 'souls', 'ambitious', 'cagney', 'remaining', 'hire', 'logical', 'shortly', 'convoluted', '60s', 'fay', 'dire', 'root', 'samurai', 'uninspired', 'laurel', 'falk', '2/10', 'repeatedly', 'repetitive', 'elderly', 'notably', 'm', 'achievement', 'blows', 'afterwards', 'twin', 'documentaries', 'perry', 'morality', 'pulling', '24', 'aimed', 'drunken', 'spoiled', 'watches', 'bleak', 'satan', 'insulting', 'piano', 'depression', 'territory', 'reasonably', 'generous', 'horrors', 'conspiracy', 'clues', 'paulie', 'cared', 'wes', 'wells', 'mel', 'cameron', 'hatred', 'timeless', 'providing', 'rid', 'loosely', '2005', 'craig', 'abc', 'rip-off', 'shark', 'jealous', 'cia', 'timothy', 'minimal', 'glenn', 'too.', 'draws', 'gradually', 'beer', 'screams', 'failing', 'explore', 'obscure', 'distant', 'disease', 'movies.', 'dave', '1980s', 'definite', 'her.', 'liberal', 'smooth', 'border', 'tall', 'reduced', 'temple', 'shadows', 'intent', '20th', 'ad', 'bad.', 'craven', 'stiller', 'thirty', 'warren', 'citizen', 'outcome', 'marks', 'cried', 'ignored', 'mid', 'verhoeven', 'trap', 'maker', 'darker', 'captivating', 'mile', 'beaten', 'alike', 'jet', 'kenneth', 'motivation', 'ok.', 'knock', 'argument', 'photographer', 'wicked', 'push', 'brazil', 'psychotic', 'rap', 'miserably', 'narrator', 'poster', 'non', 'improved', 'reasonable', 'unbelievably', 'throat', 'worried', 'contrary', 'pushing', 'warrior', 'concerning', 'childish', 'farce', 'gentle', 'meat', 'sticks', 'discussion', 'elaborate', 'distance', 'romero', 'karen', 'misses', 'eve', 'horrid', 'sunshine', 'stole', 'fancy', 'explicit', 'spin', 'purple', 'tunes', 'matthew', 'displays', 'sloppy', 'returned', 'overdone', 'blank', 'tortured', 'vicious', 'arrive', 'empire', 'shoes', 'absence', 'mildred', 'dr', 'indians', 'danes', 'gandhi', 'idiots', 'reached', 'complain', 'string', 'blend', 'drawing', 'wreck', 'ireland', 'affected', 'eyre', 'ranks', 'yesterday', 'exaggerated', 'connect', 'currently', 'resembles', 'hysterical', 'consequences', 'builds', 'sacrifice', 'dracula', 'kirk', 'drivel', 'restaurant', 'newspaper', 'receive', 'smoking', '1930s', 'size', 'translation', 'hugh', 'threw', 'wallace', 'threat', 'ought', 'fever', 'extended', 'swedish', 'walker', 'futuristic', 'progress', 'gray', 'superhero', 'nicholson', 'prom', 'editor', 'better.', 'commercials', 'broad', 'overrated', 'harder', 'triumph', 'fx', 'scripted', 'enjoys', 'pretend', 'broadcast', 'anyways', 'occur', 'mann', 'trio', 'website', 'incident', 'investigate', 'farm', 'demands', 'smoke', 'argue', 'dancers', 'daring', 'ridiculously', 'movements', 'voight', 'annie', 'beatty', 'todd', 'all-time', 'donna', 'heroic', 'engaged', 'differences', 'dignity', 'exposed', 'selfish', 'burned', 'bell', 'beats', 'fulci', 'margaret', 'conversations', 'dynamic', 'holy', 'styles', 'landscape', 'kitchen', 'leonard', 'hamilton', 'greek', 'selling', 'escaped', 'camera-work', 'existed', 'merit', 'upper', 'staying', 'rage', 'sadistic', 'comfortable', 'kapoor', 'clint', 'mate', 'swear', 'buddies', 'recognized', 'devoted', 'titled', 'mountains', 'choreography', 'journalist', 'involvement', 'load', 'edie', 'fonda', 'apes', 'robots', 'bug', 'bathroom', 'vivid', 'secrets', 'wealth', 'discovery', 'dialogues', 'aging', 'sadness', 'imagined', 'orders', 'lawrence', 'threatening', 'murderous', 'rural', 'areas', 'carl', 'birds', 'offering', 'altman', 'scientific', 'thugs', 'brady', 'superficial', 'cameras', 'deliberately', 'ex', 'symbolism', 'cuba', 'blake', 'giallo', 'jeffrey', 'possibility', 'occurred', 'causing', 'machines', 'detailed', 'producing', 'tame', '2nd', 'uneven', '}', 'lips', 'grab', 'innovative', 'proceedings', 'adequate', 'tommy', 'kennedy', 'dinosaurs', 'hammer', 'juvenile', 'undoubtedly', 'audio', 'relies', 'bite', ']', 'hollow', 'clothing', 'madonna', 'lemmon', 'popcorn', 'intrigue', 'forbidden', 'folk', 'overwhelming', 'furthermore', 'whale', 'films.', 'resemblance', 'staff', '{', 'altogether', 'banned', 'web', 'versus', 'catches', 'ah', 'ingredients', 'composed', 'combat', 'focusing', 'brains', 'unpleasant', 'signs', 'soviet', 'mickey', 'explaining', 'population', 'implausible', 'cats', 'nearby', 'removed', 'block', 'rambo', 'palma', 'disturbed', 'pays', 'thrill', 'olivier', 'eccentric', 'genres', 'waters', 'defeat', 'groups', 'twelve', 'conventional', 'linda', 'primary', 'headed', 'colonel', 'hank', 'chain', 'meaningless', 'travels', 'abilities', 'discuss', 'explosion', 'harvey', 't.v', 'unbearable', 'sport', 'passes', 'wolf', 'official', 'generic', 'react', 'portion', 'primarily', 'financial', 'panic', 'parent', 'settle', 'nightmares', 'craft', 'liking', 'antics', 'chaos', 'hates', 'cliff', 'remarkably', 'cary', 'flies', 'bird', 'li', 'devoid', 'spare', 'nazis', 'streep', 'ellen', 'spirits', 'mistaken', 'blatant', 'bin', 'clumsy', 'maggie', 'hart', 'secondly', 'florida', 'damage', 'polanski', 'mummy', 'masters', 'officers', 'explored', 'exotic', 'afford', 'hal', 'pulp', 'scheme', 'hbo', 'highest', 'glorious', 'lifestyle', 'disc', 'enormous', 'instant', 'explosions', 'dozens', 'houses', 'unintentional', 'shirley', 'subjects', 'roman', 'ginger', 'amy', 'diane', 'holly', 'directs', 'leg', 'reaches', 'lol', 'judging', 'smaller', 'represent', 'doomed', 'fond', 'survival', '2002', 'winds', 'disjointed', 'montage', 'coherent', 'trees', 'describes', 'shine', 'cheating', 'beneath', 'et', 'consistently', 'mixture', '2004', 'butt', 'odds', 'principal', 'errors', 'clown', 'urge', 'garden', 'homer', 'world.', 'garbo', 'kidding', 'fighter', 'decisions', 'rick', 'backdrop', 'props', 'unwatchable', 'tap', 'topless', 'winters', 'akshay', 'gadget', 'uwe', 'crush', 'desperation', 'hints', 'contained', 'april', 'diana', 'distracting', 'tear', 'performer', 'characters.', 'models', 'rebel', 'outer', 'surviving', 'bone', '2003', 'subtlety', 'dutch', 'thick', 'wont', 'tracks', 'bold', 'staged', 'rank', 'slap', 'macy', 'wannabe', 'possessed', 'influenced', 'notion', 'advance', 'sidekick', 'b.', 'careers', 'widow', 'frustration', 'niro', 'specifically', 'hartley', 'senseless', 'enterprise', 'benefit', 'motives', 'impress', 'ruthless', '16', 'destiny', 'stellar', 'dances', 'mysteries', 'practice', 'freak', 'amanda', 'ideal', 'funny.', 'bedroom', 'vast', 'lyrics', 'drops', 'ties', 'blew', 'trailers', 'soccer', 'toys', '[', 'carrie', 'hideous', 'awake', 'dating', 'survivors', 'endings', 'classes', 'jonathan', 'ocean', 'dedicated', 'arrogant', 'miserable', 'developing', 'countryside', 'companion', 'shaw', 'loads', 'claimed', 'philosophy', 'involve', 'matches', 'relations', '=', 'forms', 'bare', 'commented', 'brooklyn', 'weakest', 'adorable', 'outfit', '45', 'hardcore', 'godzilla', 'prostitute', 'guessed', 'introduces', 'lasted', 'lust', 'work.', 'coffee', 'offended', 'synopsis', 'simplistic', 'circle', 'ego', 'ups', 'griffith', 'doll', 'seventies', 'depressed', 'illogical', 'melting', 'jazz', 'flop', 'sandra', 'seed', 'backgrounds', 'justify', 'disappeared', 'daddy', 'corruption', '3rd', 'atlantis', 'emphasis', 'loyal', 'occasion', 'authority', 'politically', 'honesty', 'immensely', 'suited', 'revolutionary', 'judy', 'shelf', 'peoples', '0', 'grinch', 'tender', 'succeeded', 'menace', 'user', 'rooms', 'stress', 'traveling', 'enemies', 'realizing', 'measure', 'transformation', 'planned', 'severe', 'goodness', 'saga', 'interaction', 'endure', 'recorded', 'thoughtful', 'command', 'link', 'march', 'celluloid', 'hung', 'tad', 'mario', 'snake', 'adams', 'method', 'solely', 'considerable', 'cure', 'celebrity', 'disappear', 'surfing', 'campbell', 'sellers', 'trashy', 'kicked', 'charlotte', 'wendy', 'lena', 'lumet', 'unfolds', 'displayed', 'moody', 'comparing', 'leo', 'treats', 'avoided', 'similarities', 'slave', 'facing', 'tongue', 'terrorist', 'quotes', 'purchase', 'formulaic', 'wore', 'khan', 'blues', 'aid', 'consistent', 'closet', 'agrees', 'satisfied', 'ease', 'isolated', 'passionate', 'orson', 'cards', 'chorus', 'kyle', 'funeral', 'solo', 'e.g', 'angeles', 'wrestling', 'chased', 'coach', 'dalton', 'snl', 'stinker', 'morris', 'report', 'terry', 'bonus', 'faster', 'namely', 'riveting', 'buff', '1930', 'similarly', 'elephant', 'helicopter', 'mayor', 'hurts', 'improve', 'sits', 'photos', 'handed', 'hook', 'represented', 'inventive', '1960', 'grasp', 'taught', 'ya', 'possibilities', 'waited', 'eighties', 'museum', 'promised', 'stereotype', 'hit-man', 'switch', 'embarrassment', 'christy', 'macarthur', 'ollie', 'monkeys', 'divorce', 'preview', 'crack', 'dolls', 'horrifying', 'combine', 'behave', 'wished', 'buffs', 'delivering', 'philosophical', 'swimming', 'wives', 'education', 'one-dimensional', 'defend', 'dinosaur', 'rex', 'tonight', 'unhappy', 'bergman', 'alert', 'paltrow', 'relation', 'ruby', 'carradine', 'inane', 'connery', 'shelley', 'chess', 'montana', 'abysmal', 'franco', 'h', 'amitabh', 'hopper', 'stinks', 'valuable', 'reads', 'unsettling', 'lately', 'fix', 'on-screen', 'plant', 'nervous', 'transfer', 'suitable', 'kingdom', 'painted', 'blond', 'duty', 'closest', 'sentence', 'virginia', 'thru', 'motivations', 'humble', 'ears', 'oz', 'pretending', 'maintain', 'ignorant', 'berlin', 'cg', 'yellow', 'vegas', 'blunt', 'dixon', 'timon', 'buildings', 'affect', 'staring', 'useful', 'edgar', 'engage', 'faults', 'elegant', 'corporate', 'reflect', 'rotten', 'emperor', 'dickens', 'dub', 'sappy', 'bela', 'gangsters', 'close-ups', 'concern', 'disappoint', 'bands', 'fooled', 'conflicts', 'simpson', 'safety', 'artificial', 'couples', 'nicholas', 'robinson', 'lundgren', 'ballet', 'gerard', 'airport', 'waves', 'scottish', 'tiresome', 'bullet', 'destroying', 'agents', 'jenny', 'letters', 'cinematographer', 'scarecrow', 'myers', 'stooges', 'reaching', 'lay', 'n', 'firstly', 'times.', 'poetic', 'centers', 'nostalgic', 'shake', 'access', 'scope', 'yelling', 'made-for-tv', 'cleverly', 'remarks', 'sirk', 'wet', 'nomination', 'miracle', 'armed', 'finger', 'potentially', 'cake', 'global', 'scores', 'germans', 'understandable', 'screen.', 'ethan', 'grandfather', 'racial', 'secretly', 'questionable', 'mall', 'bath', 'gundam', 'richardson', 'depicts', 'purchased', 'plight', 'trained', 'provoking', 'willis', 'cave', 'earned', 'alongside', '2007', 'sh', 'watch.', 'amounts', 'advise', 'lengthy', 'pearl', 'jumped', 'september', 'francis', 'showcase', 'porno', 'alcoholic', 'intentionally', 'rendition', 'punk', 'rocket', 'wandering', 'stevens', 'richards', 'pokemon', 'robbery', 'splatter', 'molly', 'careful', 'understated', 'guarantee', 'boot', 'tie', 'greedy', 'arrived', '1996', 'steel', 'abusive', 'exploration', 'survived', 'you.', 'spoke', 'rising', 'iron', 'communist', 'floating', 'dimensional', 'vulnerable', 'nostalgia', 'confidence', 'advanced', 'species', 'beliefs', '3.', 'troops', 'wound', 'illegal', 'likewise', 'arguably', 'joined', '1999', 'catchy', 'mars', 'roth', 'pig', 'raising', 'limits', 'bottle', 'persons', 'brutally', 'convincingly', 'justin', 'designs', 'shirt', 'worker', 'sub', 'slick', 'airplane', 'chicago', 'marty', 'scrooge', 'blade', 'damon', 'bacall', 'downhill', 'civilization', 'spock', 'farrell', 'domino', 'scooby', 'biko', 'online', 'resort', 'transition', 'inferior', 'wrapped', 'accompanied', 'literature', 'capturing', 'agreed', 'sue', 'recognition', 'june', 'spread', 'cd', 'stilted', 'proceeds', 'chest', 'fascinated', 'vs', 'im', 'cheated', 'raymond', 'construction', 'latin', 'mini', 'attitudes', 'simplicity', 'signed', 'advertising', 'classical', 'intimate', 'st.', \"'em\", 'voice-over', 'junior', 'drake', 'lowest', 'ashley', 'rat', 'taxi', 'hunters', 'witches', 'grayson', 'antwone', 'gabriel', 'aids', 'opinions', 'del', '9/11', 'challenging', 'bull', 'parallel', 'cities', 'vengeance', 'bang', 'visits', 'royal', 'show.', 'subplots', 'satisfy', 'carell', 'eager', 'lively', 'betty', 'witnesses', 'wizard', 'copies', 'misery', 'austen', 'complexity', 'dreary', 'compelled', 'edition', 'foul', 'manipulative', 'randy', 'lit', 'barrymore', 'exceptionally', 'seeks', 'up.', 'relatives', 'demented', 'excessive', 'writes', 'hyde', 'crucial', 'tends', 'smiling', 'homosexual', 'alternate', 'attorney', 'equivalent', 'keith', 'prisoner', 'christians', 'earl', 'illness', 'hilariously', 'suspicious', 'invasion', 'poetry', 'restored', 'pops', 'rooney', 'neighbors', 'losers', 'choreographed', 'julian', 'creator', 'owen', 'babe', 'nyc', 'stallone', 'tomatoes', 'alison', 'inappropriate', 'desired', 'awe', 'phantom', 'sincere', 'demand', 'cliche', 'masterful', 'tiger', 'assault', 'mankind', 'kay', 'well-known', 'widely', 'overacting', 'der', 'stale', 'belong', 'ape', 'hello', 'overlook', 'blowing', 'appreciation', 'patients', 'louise', 'prisoners', 'willie', 'pursuit', 'pit', 'incomprehensible', 'wishing', 'othello', 'domestic', 'iran', 'frequent', 'chooses', 'methods', 'experiments', 'property', 'opportunities', 'instinct', 'mundane', 'unit', 'descent', 'angela', 'lone', 'resources', 'eaten', 'plausible', 'carla', 'button', 'zizek', 'reid', 'frankenstein', 'paranoia', 'messed', 'performs', 'pot', 'arrival', 'terrorists', 'enthusiasm', 'scenes.', 'progresses', 'legal', 'graham', 'introduce', 'heights', 'resident', 'kicking', 'constructed', 'vaguely', 'operation', 'calm', 'parties', 'twilight', 'pamela', 'jaws', 'meryl', 'watson', 'feed', 'prize', 'bumbling', 'spain', 'suffice', 'brenda', 'e', 'chicks', 'square', 'dolph', 'awfully', 'novak', 'whats', 'belushi', 'mentions', 'greed', 'elm', 'incompetent', 'whoopi', 'frankie', 'omen', 'marion', 'iraq', 'survivor', 'petty', 'poem', 'sink', 'capital', 'suspend', 'randomly', 'loaded', 'ruins', 'responsibility', 'pan', 'dana', 'fury', '1972', 'promises', 'fuller', '1960s', 'creativity', 'wacky', 'rukh', 'troubles', 'nuts', 'viewings', 'walsh', 'wisdom', 'simmons', 'attend', 'witnessed', 'conservative', 'butler', 'prequel', 'landscapes', 'muslim', '3d', 'climactic', 'alfred', 'assigned', 'balls', 'basketball', 'borrowed', 'tag', 'icon', 'josh', 'crocodile', 'spacey', 'mclaglen', 'greg', 'sabrina', 'ustinov', 'soderbergh', 'teaching', 'sissy', 'waitress', 'underlying', 'wholly', 'shed', '1968', 'channels', 'seen.', 'solution', 'warmth', 'unaware', 'improvement', 'distinct', 'expressed', 'palace', 'activities', 'inevitably', 'dust', 'gifted', 'quit', 'bay', 'mistress', 'doubts', 'receives', 'pal', 'polished', 'monk', 'mechanical', 'conceived', 'chapter', 'resist', 'recording', 'pants', 'masterpieces', 'thompson', 'assumed', 'mentioning', 'dose', 'visible', 'peters', 'rangers', 'unoriginal', '@', 'cassidy', 'ramones', 'slaughter', 'tribe', 'darren', 'voiced', 'rabbit', 'sid', 'damme', 'miyazaki', '1940', 'despair', 'stunned', 'historically', 'contest', 'gentleman', 'much.', 'assassin', 'moronic', 'resulting', 'specially', 'depicting', 'educational', 'testament', 'scene.', 'wounded', 'businessman', '–', 'sneak', 'nicole', '13th', 'closed', 'marketing', 'rats', 'shanghai', 'trademark', 'laughably', 'scotland', 'unreal', 'eugene', 'household', 'map', 'rocky', 'edgy', 'psychic', 'acid', 'punishment', 'nathan', 'furious', 'israel', 'championship', 'pierce', 'pete', 'fashioned', 'merits', 'wang', 'supported', 'uplifting', 'catching', 'stargate', 'album', 'mighty', 'distribution', 'would-be', 'warriors', 'cringe', 'imitation', 'interests', 'stretched', 'seldom', 'harm', 'quinn', 'popularity', 'accuracy', 'resemble', 'grabs', 'package', 'equipment', 'minimum', 'austin', 'exposure', 'firm', 'strangers', 'nail', 'phil', 'middle-aged', 'trail', 'orleans', 'pink', 'irrelevant', 'doom', 'deniro', 'maid', 'dee', 'analysis', 'swim', 'nonsensical', 'rita', 'nephew', 'expedition', 'abraham', 'antonioni', 'rolled', 'kumar', 'showdown', 'subjected', 'more.', 'reflection', 'confess', 'unfair', 'pressure', 'astonishing', 'conditions', 'biography', 'masses', 'boom', 'loyalty', 'significance', 'film-makers', 'empathy', 'travesty', 'tooth', 'deceased', 'people.', 'either.', 'immediate', 'ambiguous', 'ross', 'malone', 'disliked', 'preston', 'creep', 'peak', 'generations', 'was.', 'dimension', 'comfort', 'shaky', 'andre', 'defense', 'sounding', 'suggested', 'phony', 'kurosawa', 'definition', '90s', 'logan', 'confrontation', 'alicia', 'exchange', 'unpredictable', 'landing', 'compassion', 'not.', 'wretched', 'integrity', 'valley', 'marshall', '1983', 'joel', 'valentine', 'robbins', 'fido', 'basinger', 'composer', 'fiancé', 'hopeless', 'metaphor', 'rubber', 'stumbled', 'inability', 'gregory', 'unexpectedly', 'retired', 'newman', 'unseen', 'downey', 'spirited', 'defined', 'rave', 's.', 'reel', 'maniac', 'fascination', 'simultaneously', 'buffalo', 'crawford', 'karl', 'christianity', 'remained', 'fields', 'technicolor', 'fought', 'hawke', 'checked', 'adaptations', 'invented', 'glasses', 'alec', 'sopranos', 'claus', 'vance', 'companies', 'directions', 'leon', 'patience', 'gather', 'crystal', 'yard', 'palance', 'baldwin', 'cannibal', 'raines', 'bridget', 'teachers', 'photo', 'raises', 'foxx', 'stuart', 'refused', 'females', 'legacy', 'series.', 'presenting', 'difficulties', 'tastes', 'rude', 'roots', 'newly', 'joins', 'underneath', 'relax', 'hears', 'frightened', 'alcohol', 'h.', 'primitive', 'precisely', 'rises', 'reader', 'musician', 'laws', 'frustrating', 'kissing', 'stack', 'clip', 'eastern', 'twins', 'sunny', 'nerd', 'correctly', 'sharon', 'sixties', 'objective', 'require', 'wwe', 'ninja', 'bud', 'deranged', 'boyle', 'rates', 'abused', 'straightforward', 'wagner', 'replace', 'husbands', 'teaches', 'gender', 'purposes', 'brutality', 'tank', 'stark', 'lackluster', 'pun', 'blast', 'spark', 'flair', 'awhile', 'prepare', 'amused', 'premiere', 'fathers', 'wakes', 'ships', 'experimental', 'milk', 'respected', 'sums', 'no-one', '1933', 'desires', 'vulgar', 'interactions', 'favour', 'victory', 'dreck', 'da', 'les', 'rifle', 'ho', 'dud', 'quietly', 'passable', 'mtv', 'chicken', 'murray', 'posey', 'springer', 'din', 'adopted', 'discovering', 'hopkins', 'p.s', 'bernard', 'coast', 'matched', 'provocative', 'masks', 'priceless', 'dresses', 'parade', 'lands', 'poison', 'roof', 'examination', 'roommate', 'electric', 'dysfunctional', 'region', 'wildly', 'penn', 'paradise', 'nolan', 'appropriately', 'complaining', 'absent', 'warming', 'respectively', 'tomorrow', 'framed', 'accomplish', 'literary', 'rely', 'loneliness', 'policeman', 'behaviour', 'mini-series', 'remakes', 'encourage', 'be.', 'russia', 'attenborough', 'choppy', 'aspiring', 'inexplicably', 'comedians', 'esther', 'plot.', 'items', 'duvall', 'unlikable', 'muddled', 'clarke', 'sentinel', 'tierney', 'referred', 'wrap', 'laurence', 'invites', '1987', 'knight', 'shared', 'ordered', 'demise', 'heartfelt', 'tracking', 'mode', 'alternative', 'moreover', 'silliness', 'ensues', 'phrase', 'complaints', 'tacky', 'musicians', 'skull', 'hackneyed', 'knocked', 'fest', 'fingers', 'preposterous', '50s', 'shoddy', 'ladder', 'in.', 'uncut', 'noises', 'paramount', 'senses', 'grief', 'greatness', 'charged', 'credited', 'sentiment', 'bacon', 'blacks', 'generated', 'automatically', 'bunny', 'buster', 'grotesque', 'exposition', 'filling', 'deaf', 'vice', 'positively', 'tyler', 'morbid', 'imaginable', 'paxton', 'heartbreaking', 'refer', 'leigh', 'tarantino', 'trend', 'woo', 'puppet', 'occasions', 'fi', 'meg', 'tube', 'unfold', 'shoulders', 'translated', 'ignorance', 'releases', 'fantasies', 'babies', 'citizens', 'prey', 'absurdity', 'dont', 'daniels', 'lindsay', 'gambling', '1973', 'rod', 'respective', 'cattle', 'sung', 'femme', 'lush', 'weakness', 'forty', 'agenda', 'gillian', 'bargain', 'additional', 'penny', 'year-old', 'objects', 'murdering', 'amusement', 'brendan', 'caricatures', 'insurance', 'realised', 'mccoy', 'kolchak', 'hopelessly', 'wilderness', 'pitiful', 'quaid', 'beverly', 'preminger', 'kitty', 'jess', 'realm', '1997', 'shares', 'well-written', 'designer', 'outfits', 'invited', 'deserted', 'admirable', 'handling', 'martha', 'accepts', 'youngest', 'misleading', 'minutes.', 'romp', 'conscience', 'devices', 'posters', 'abrupt', 'hughes', 'naughty', 'chills', 'regarded', 'edit', 'challenges', 'swing', 'pages', 'visiting', 'asylum', '1995', 'disappears', 'lock', 'canyon', 'minded', 'function', 'iv', 'lois', 'pro', 'cue', 'kidman', 'indication', 'squad', 'celebration', '1984', 'corpses', 'gina', '19th', 'fontaine', 'christine', 'pg-13', 'overlong', 'iconic', 'servant', 'fog', 'threatens', 'nicolas', 'conveys', 'thought-provoking', 'labor', 'evidently', 'infected', 'venture', 'reflects', 'l.a.', 'character.', 'cruelty', 'conviction', 'ear', 'depending', 'address', 'coincidence', 'sci', 'soup', 'active', 'secondary', 'conventions', 'jews', 'prejudice', 'nod', 'cope', 'recommendation', 'minus', 'shades', 'chainsaw', 'beside', 'promote', 'drove', 'suspension', 'filth', 'glowing', 'receiving', 'tasteless', 'kline', 'patricia', 'severely', 'kansas', 'bronson', 'reign', 'vader', '3000', 'insipid', 'peck', 'cannon', 'acclaimed', '~', 'entitled', 'previews', 'outing', 'hammy', 'guaranteed', 'burst', 'reluctant', 'heading', 'other.', 'obligatory', 'circus', 'eternal', 'affairs', 'records', 'yeti', 'hk', 'counts', 'freaks', 'posted', 'understands', 'demonstrates', 'difficulty', 'remade', 'sympathize', 'mill', 'boston', 'affection', 'oldest', 'thread', 'acceptance', 'farmer', 'strongest', 'skits', 'lester', 'caliber', 'industrial', 'visited', 'rejected', 'selection', 'aim', 'ratso', 'lifted', 'rosemary', 'alvin', 'rome', 'harold', 'curly', 'muppets', 'chavez', 'deleted', 'phenomenon', 'weaknesses', 'hapless', 'guests', 'exceptions', 'sketch', 'portrayals', 'widescreen', 'vital', 'audience.', 'stores', 'ebert', 'set-up', 'commander', 'underworld', 'morally', 'conclude', 'orange', 'cream', 'suitably', 'emerges', 'anticipation', 'studying', 'steady', 'terrified', 'inconsistent', 'beatles', 'hippie', 'marvel', 'stages', 'explores', 'communicate', 'riot', 'predict', 'reeves', 'insists', 'billed', 'non-stop', 'guitar', 'agency', 'fishing', 'cushing', 'betrayal', 'mothers', 'sooner', 'attract', 'darn', 'heist', 'redeem', 'tripe', 'p', 'visions', 'profanity', 'scorsese', 'misguided', 'adolescent', 'champion', 'recycled', 'wilder', 'ants', 'steele', 'sox', 'nolte', 'gere', 'muppet', 'cohen', '35', 'millionaire', 'investigating', 'top-notch', 'ingenious', 'http', 'zane', 'claiming', 'worn', 'prominent', 'interestingly', 'marries', 'loretta', 'nemesis', 'tail', 'repeating', 'q', 'despicable', 'someday', 'garner', 'harrison', 'casual', 'flowers', 'together.', 'eats', 'fed', 'shouting', 'forcing', 'feminist', 'biased', 'clueless', 'psychology', 'representation', 'sassy', 'dates', 'sending', 'vibrant', 'harmless', 'housewife', 'colin', 'claustrophobic', 'bread', 'comparisons', 'minister', 'slimy', 'marlon', 'screens', 'banal', 'spinal', 'cancer', '1936', 'filler', 'option', 'unexplained', 'firing', 'assuming', 'physics', 'locals', 'zombi', 'singers', 'flashy', 'poe', 'rhythm', 'elite', 'height', 'depends', 'discussing', 'heartwarming', 'befriends', 'unrelated', 'transformed', 'well-made', 'couch', 'grainy', 'delicate', 'gems', 'campaign', 'light-hearted', 'slice', 'vein', 'bridges', 'considerably', 'clan', '+', 'crazed', 'blatantly', 'studies', 'carey', 'jordan', 'phillip', 'lukas', 'mentality', 'f.', 'disguise', 'jr', 'historic', 'pounds', 'gear', 'addicted', 'hepburn', 'fluff', 'chuckle', 'limit', 'bully', 'danish', 'dressing', 'europa', 'route', 'beware', 'el', 'immature', 'ariel', 'grudge', 'anton', 'ritchie', '.......', 'j', 'cassavetes', 'guinness', 'tenant', 'melody', 'dylan', '1971', 'off.', 'tempted', 'renaissance', 'bike', 'melissa', 'uma', 'kathryn', 'winchester', 'mol', 'programs', 'schools', 'norm', 'departure', '2008', 'hokey', 'inexplicable', 'gate', 'phillips', 'exploring', 'coupled', 'recognizable', 'affleck', 'raj', 'glamorous', 'keen', 'stairs', 'legends', 'toronto', 'partners', 'praised', 'about.', 'sub-par', 'audrey', 'stumbles', 'ethnic', 'ace', 'kung-fu', 'preachy', 'static', 'disgusted', 'smiles', 'wrong.', 'gal', 'voted', 'georges', 'incidentally', 'challenged', 'acting.', 'connections', 'inhabitants', 'shoulder', 'fifty', 'charms', 'duck', 'mathieu', 'bondage', 'doctors', 'well-done', 'rapist', 'vanessa', 'defeated', 'die-hard', 'remove', 'symbolic', 'boxer', 'bend', 'pixar', 'doo', 'charlton', 'snakes', 'institution', 'cher', 'pickford', 'timberlake', 'messy', 'handles', 'casts', '1986', 'deserving', 'ton', 'day.', 'bow', 'accurately', 'partially', 'trials', 'years.', 'swept', 'ambition', 'drive-in', 'shortcomings', 'with.', 'shopping', 'hangs', 'cheer', 'co-stars', 'politician', 'item', '1993', 'surgery', 'backwards', 'wings', 'screwed', 'milo', 'windows', 'computers', 'thrilled', 'uniformly', 'independence', 'dandy', 'chamberlain', 'assassination', 'employed', 'towers', 'wig', 'schlock', 'tip', 'trier', 'dirt', 'lifeless', \"'70s\", 'hilarity', 'continually', 'controlled', 'alexandre', 'feeding', 'coup', 'mirrors', 'serving', 'goldsworthy', 'dudley', 'carlito', 'sorely', 'boyer', 'fishburne', 'moe', 'wendigo', 'corbett', 'hides', 'token', '1988', 'bates', 'northern', 'threatened', 'hack', 'hearted', 'rendered', 'mayhem', 'natives', 'brooding', 'triangle', 'fun.', 'bars', 'satirical', 'salt', 'ripping', 'debate', 'concepts', 'mannerisms', 'minority', 'preferred', 'excess', 'earn', 'wanders', 'outright', 'camcorder', 'feat', 'obtain', 'newer', 'predecessor', 'proving', 'firmly', 'vocal', 'g.', 'commenting', 'trivia', 'knightley', 'ms', 'bowl', 'kazan', 'neurotic', 'gilliam', 'suggestion', '1978', 'centre', 'braveheart', 'pole', 'disastrous', 'naschy', 'centered', 'randolph', 'backs', 'mercy', 'wtf', '1989', 'nope', 'containing', 'huston', 'clara', 'corman', 'stalker', 'jared', 'einstein', 'wax', 'christie', 'mitch', 'insightful', 'mutual', 'completed', 'bitch', 'fade', 'neatly', 'rope', 'sharing', 'btw', 'entered', 'exquisite', 'destroys', 'sleeps', 'bent', 'describing', 'feel-good', 'helpless', 'clock', 'shaking', 'duration', 'artsy', 'co-star', 'pacific', 'destined', 'paintings', 'critique', 'evolution', 'organized', 'fist', 'speeches', 'engrossing', 'boasts', 'genie', 'conrad', 'walt', 'refuse', 'sincerely', '1990s', 'topics', 'strings', 'elevator', 'sugar', 'weather', 'election', 'liners', 'macho', 'paula', 'subtly', 'disorder', 'lex', 'vain', 'demonic', 'niece', 'liu', 'layers', 'rooting', 'uh', 'nina', 'traffic', 'detectives', 'denis', 'akin', 'antonio', 'bachelor', 'errol', 'alley', 'mermaid', 'vile', 'tara', 'natalie', 'capote', 'profession', 'inspire', 'affects', 'shorter', 'demanding', 'guards', 'boris', 'relentless', 'miniseries', 'publicity', 'authorities', 'nations', 'masterfully', 'applaud', 'owners', 'helpful', 'carmen', 'pg', '4th', 'owes', 'cartoonish', 'saint', 'injured', 'setup', 'leaders', 'advertised', 'far-fetched', 'goldblum', 'min', 'vastly', 'dvds', 'choosing', 'punches', 'refers', 'nails', 'weaker', 'hugely', 'bach', 'healthy', 'tops', 'seedy', 'mesmerizing', 'preparing', 'outdated', 'nut', 'deny', 'audition', 'tokyo', 'ingrid', 'luis', 'made.', 'statue', 'armstrong', 'sometime', 'info', 'des', 'exploits', 'stopping', 'unlikeable', 'kent', 'altered', 'lift', 'damaged', 'spree', 'behold', 'cbs', 'bulk', 'activity', 'judd', 'triple', '4.', 'artwork', 'homicide', 'runner', 'cemetery', 'cain', 'tunnel', 'w', 'evelyn', 'lampoon', 'mcqueen', 'joker', 'jedi', 'highway', 'lean', 'fast-paced', 'motive', 'detract', 'cerebral', 'dropping', 'down.', 'racing', 'hulk', 'realities', 'hers', '1979', 'males', 'dazzling', 'expertly', 'strengths', 'wardrobe', 'gained', 'stare', 'grounds', 'startling', 'crashes', 'gods', 'breed', 'justified', 'bsg', 'compete', 'mixing', 'hungry', 'lasting', 'continuing', 'myth', 'role.', 'excellently', 'truman', 'error', 'candidate', 'gable', 'internal', 'jaw', 'hires', 'jill', 'sophie', 'lasts', 'cecil', 'macabre', 'fifties', 'convinces', 'restrained', 'approaches', 'cracking', 'stunningly', 'rides', 'abruptly', 'emerge', 'dubious', 'scariest', 'las', \"o'hara\", 'skit', 'miami', 'lauren', 'unsuspecting', 'crosby', 'deer', '1981', 'parsons', 'mitchum', 'conan', 'contempt', 'l.', 'reeve', 'casper', 'beowulf', 'toni', 'residents', 'votes', 'banter', 'sinking', 'poker', 'differently', 'netflix', 'youthful', 'regards', 'located', 'insanity', 'colours', 'label', 'confront', 'fifth', 'bruno', '22', 'sleaze', 'galaxy', 'mail', 'disguised', 'globe', 'landed', 'rapidly', 'grateful', 'giants', 'tower', 'contribution', 'cinemas', 'rampage', 'screw', 'factors', 'eleven', 'endlessly', 'sergeant', 'entering', 'vividly', 'sniper', 'ie', 'harlow', '1945', 'convicted', 'screenwriters', 'insights', 'heels', 'origins', 'confronted', 'insults', 'gates', 'modest', 'eternity', 'bravo', 'accessible', 'bloom', 'referring', 'undeniably', 'limitations', 'origin', 'salvation', 'chronicles', 'painter', 'survives', 'gimmick', 'spies', 'promptly', 'mabel', 'radical', 'porter', 'undead', 'inaccurate', 'tapes', 'ronald', 'burke', 'hackman', 'puerto', 'soylent', 'gunga', 'gypo', 'low-key', 'disappointed.', 'lend', 'dismal', '21st', 'buzz', 'supply', 'terminator', 'juliet', 'frames', 'depths', 'photographs', 'point.', 'energetic', 'suburban', 'formed', 'definitive', 'confident', 'standout', 'belt', 'eventual', 'authenticity', 'cons', 'l', 'expects', 'misfortune', 'siblings', '1976', 'tossed', 'net', 'repressed', 'jarring', 'unattractive', 'perception', 'biblical', 'principle', 'butcher', 'corporation', 'interact', 'wander', 'homes', 'sticking', 'mrs', 'potter', 'so-so', 'wonderland', 'cents', 'rookie', 'approaching', 'reward', 'anyhow', 'hats', 'fatale', 'derivative', 'puppets', 'sale', 'ally', 'casino', 'tormented', 'damned', 'inherent', 'identical', 'servants', 'lennon', 'caron', 'marc', 'bitten', 'addict', 'creek', 'repulsive', 'unsure', 'jodie', 'shepherd', 'kinnear', 'barrel', 'amrita', 'anil', 'cheadle', 'yokai', 'heavy-handed', 'separated', 'crossing', 'passengers', 'underwater', 'family.', 'exploit', 'clash', 'devastating', 'quentin', 'conveyed', 'depict', 'homosexuality', 'mum', 'teams', 'filthy', 'swallow', 'wisely', 'christina', 'flashes', 'irene', 'sensible', 'cries', 'offbeat', 'improbable', 'yep', 'scoop', 'growth', 'psychopath', '.the', 'place.', 'published', 'exterior', 'inspirational', 'nominations', 'pray', 'witchcraft', 'deanna', 'astounding', 'pale', 'laurie', 'buys', 'glued', 'toby', 'adore', 'magician', 'assured', 'wounds', 'enhanced', 'owns', 'breakfast', 'meandering', 'caricature', 'harriet', 'delicious', 'polly', 'imo', 'senior', 'cypher', 'angst', 'pirate', 'monty', 'dustin', 'jules', 'ham', 'decidedly', 'dilemma', 'exit', 'disgrace', 'stranded', 'immortal', 'mice', 'concentrate', 'garland', 'entirety', 'hayworth', 'mutant', 'minnelli', 'b-movies', 'bogus', 'drinks', 'arab', 'incapable', 'vehicles', 'erika', 'disabled', 'lola', 'mason', 'miranda', 'timmy', 'salman', 'mobile', 'playboy', 'masterson', 'flimsy', 'unimaginative', 'sidewalk', 'chopped', 'reports', 'fragile', 'isolation', 'users', 'pattern', 'demonstrate', 'sublime', 'stalking', 'combines', 'contribute', 'absorbing', 'principals', 'intricate', 'implied', 'readers', 'cyborg', 'escaping', 'hindi', 'expose', 'divorced', 'samantha', 'decline', 'enthusiastic', 'pleasing', 'gentlemen', 'glaring', 'jacket', 'yours', 'african-american', 'holocaust', 'bones', 'wong', 'nerves', 'uniform', 'possess', 'messing', 'promoted', 'attacking', 'robertson', 'scarface', 'loy', 'foolish', 'reminder', 'pin', 'judgment', 'berkeley', 'crisp', 'appeals', 'ensure', 'seymour', 'arguing', 'collect', 'asia', 'sentimentality', 'outline', 'good-looking', 'tremendously', 'volume', 'crippled', 'reliable', 'dread', 'mama', 'clay', 'nbc', 'cleaning', 'excruciatingly', 'lance', 'yawn', 'stephanie', 'cunningham', 'quantum', 'missile', 'hadley', 'forgiven', 'severed', 'pegg', 'barbra', 'thurman', 'sanders', 'rescued', 'estranged', 'done.', 'dashing', 'assembled', 'rainy', 'spectacle', 'characteristics', 'owned', 'longest', 'sydney', 'pursue', 'tendency', 'cliches', 'colleagues', 'id', 'habit', 'distract', 'popping', 'disgust', 'budgets', 'longoria', 'reviewing', '1991', 'aided', '1969', 'august', 'leather', 'subway', 'jury', 'remembering', 'indiana', 'copied', 'noticeable', 'answered', 'turmoil', 'havoc', 'cookie', 'divine', 'zorro', 'busey', 'cheek', 'melvyn', 'earnest', 'expectation', 'morals', 'franklin', 'dukes', 'overblown', 'immense', 'fairbanks', 'resulted', 'grass', 'parallels', 'seeming', 'herman', 'victorian', 'juliette', 'respectable', 'resolved', 'switched', 'experiencing', 'jealousy', 'steam', 'basket', 'butch', 'deliverance', 'embrace', 'ominous', 'exorcist', 'crown', 'scratch', 'kidnapping', 'spencer', 'fassbinder', 'dragons', 'ugh', 'whiny', 'pumbaa', 'jenna', 'gamera', 'thunderbirds', 'ghetto', 'collette', 'sucker', 'deliberate', 'approached', 'alleged', 'peculiar', 'bombs', 're', 'voyage', 'gilbert', 'romeo', 'cal', '19', 'jaded', '\\x97', 'longing', 'begging', 'unsatisfying', 'a.', 'demonstrated', 'lavish', 'virtual', 'sf', 'shell', 'sought', 'ending.', 'theories', 'plotting', 'rounded', 'old-fashioned', 'carnage', 'quarter', 'lighter', 'collective', 'w.', 'worms', 'aiming', 'debt', 'itself.', 'conveniently', 'updated', 'amazon', 'sand', 'avoiding', 'tourist', 'dealer', 'accounts', 'packs', 'pause', 'whining', 'well-acted', 'grandma', 'peaceful', 'away.', 'herbert', '1977', 'frontier', 'wire', 'salesman', 'crashing', 'knocks', 'shootout', 'liam', 'papers', 'filmmaking', 'shepard', '1940s', 'lightning', 'now.', 'span', 'boring.', 'chill', 'selected', 'cheaply', 'clive', 'inmates', 'suspected', 'vanilla', 'stardom', 'underwear', 'debbie', \"'cause\", 'vince', 'hannah', 'adrian', 'day-lewis', 'jolie', 'vega', 'sarandon', 'arquette', 'youtube', 'gielgud', 'moron', 'scifi', 'niven', 'rowlands', 'chiba', 'celebrated', 'reviewed', 'achieves', 'establish', 'breakdown', 'kathy', 'commits', 'slip', 'aussie', 'commitment', 'pocket', 'arriving', 'settled', 'literal', 'cultures', 'rider', 'lang', '30s', 'enhance', 'borders', 'thieves', 'odyssey', 'close-up', 'arrest', 'delighted', 'define', 'traits', 'goods', 'wiped', 'live-action', 'poses', 'razor', 'accepting', 'verdict', 'swearing', 'climb', 'spaghetti', 'sammo', 'fills', 'psychologist', 'ricky', 'arc', 'relentlessly', 'slapped', 'canceled', 'contributed', 'predictably', 'judged', 'daisy', 'excuses', 'rear', 'demille', 'horny', 'diverse', 'rebellious', 'spit', 'pad', 'ultimatum', 'dame', 'vanity', 'stella', 'furniture', 'insist', 'seasoned', 't.', 'cape', 'thing.', 'dump', 'pirates', 'dramatically', 'stones', 'classy', 'feast', 'admired', 'taped', 'jersey', 'exploding', 'mystical', 'deputy', 'acquired', 'else.', 'coat', '1974', 'werewolves', 'skilled', 'schneider', 'karate', 'revolt', 'tolerable', 'slugs', 'clooney', 'pc', 'bounty', 'angie', 'establishing', 'performance.', 'remembers', 'defies', 'ultra', 'lowe', 'graveyard', 'attending', 'phenomenal', 'drab', 'shockingly', 'subtext', 'immigrant', 'rewarding', 'readily', 'covering', 'ranch', 'ol', 'explosive', 'taboo', 'intentional', 'sarcastic', '1994', 'ps', 'deliciously', 'apply', 'pfeiffer', 'amidst', 'jewel', 'marilyn', 'soft-core', 'delightfully', 'spice', 'guinea', 'freaky', 'vintage', 'instincts', 'seductive', 'thelma', 'cooking', 'flavor', '1985', 'posing', 'follow-up', '1944', 'courtroom', 'suggesting', 'ritual', 'comprehend', 'bogart', 'unsympathetic', 'lucille', 'madsen', 'overboard', 'encountered', 'beckinsale', 'adaption', 'thirties', 'troma', 'explodes', 'redundant', 'korea', 'tool', '1953', 'contestants', 'arranged', '28', 'trace', 'informed', 'something.', 'comedy.', 'slide', 'bye', 'strict', 'populated', 'rea', 'addiction', 'mysteriously', 'lunch', 'nightclub', 'rivers', 'tax', 'leap', 'denise', 'meantime', 'passage', 'arkin', 'pedestrian', 'axe', 'haines', 'brainless', 'expense', 'dj', 'so.', 'anthology', 'lionel', 'otto', 'elliott', 'serum', 'colman', 'owl', 'gooding', 'deciding', 'hybrid', 'consideration', 'sundance', 'x-files', 'fright', 'hateful', 'symbol', 'forgetting', 'phase', 'distress', 'respects', '40s', 'wider', 'columbia', 'g', 'dominated', 'foundation', 'wine', 'races', 'lends', 'romances', 'viewpoint', 'sells', 'tactics', 'goals', 'possesses', 'ira', 'olivia', 'polish', 'first-rate', 'scored', 'anxious', \"'n\", 'pros', 'anytime', 'mortal', 'consist', 'goodbye', 'snuff', 'circles', 'novelty', 'wastes', 'stroke', 'stylized', 'pursued', 'legitimate', 'bikini', 'mouths', 'incorrect', '1939', 'counter', 'cuban', 'whites', 'hop', 'nuances', 'attended', 'europeans', 'clerk', 'fluid', 'gwyneth', 'noteworthy', 'sixth', 'optimistic', 'cindy', 'fools', 'headache', 'produces', 'sickening', 'serials', 'medieval', 'trains', 'beg', 'diary', '1975', 'gibson', 'to.', 'tongue-in-cheek', 'pound', 'debra', 'claude', 'additionally', 'cigarette', 'possession', 'pushes', 'steer', 'georgia', 'obsessive', 'um', 'slaves', 'introducing', 'martian', 'sondra', 'invention', 'kris', 'sgt', 'morons', 'embarrassingly', 'bachchan', 'dumber', 'parking', 'hooper', 'dahmer', 'chong', 'laputa', 'tomei', 'creasy', 'sailor', 'corn', 'lethal', 'dumped', 'horrified', 'controlling', 'love.', 'compliment', 'pathos', 'afterward', 'edith', 'shah', 'document', 'mythology', 'aggressive', 'distracted', 'invite', 'neglected', 'meal', 'awakening', 'warns', 'indicate', 'puzzle', 'stating', 'july', 'sources', 'incidents', 'screwball', 'mute', 'abandon', 'originals', 'informative', 'eli', 'session', 'begs', 'monologue', 'goldie', 'corey', 'aftermath', 'ordeal', 'anticipated', 'indifferent', 'simpsons', 'roughly', 'art-house', 'obstacles', 'unusually', 'forties', 'breathing', 'verbal', 'northam', 'rejects', '21', 'k', 'rational', 'motions', 'cliched', 'unanswered', 'reverse', 'keys', 'routines', 'jacques', 'exploited', 'cameraman', 'freaking', 'planes', 'excruciating', 'greene', 'clone', '75', 'dominic', 'narrow', 'feeble', 'daylight', 'update', 'visconti', 'newcomer', 'starters', 'duel', 'tickets', 'frog', 'stabbed', 'cody', 'mormon', 'meteor', 'flock', 'doyle', 'dumbest', 'republic', 'fallon', 'penelope', 'rosario', 'iturbi', 'hoot', 'en', 'inaccuracies', 'frances', 'freeze', 'depictions', 'begun', 'sarcasm', 'festivals', 'instances', 'misunderstood', 'arguments', 'relevance', 'generate', 'cinema.', 'grabbed', 'know.', 'sheen', 'alot', 'releasing', 'regularly', 'psyche', 'realization', 'sterling', 'spider', 'cliffhanger', 'tcm', 'stance', 'pointing', 'graduate', 'county', 'jose', 'deed', 'centuries', 'feminine', 'varied', 'turd', 'iranian', 'convention', 'void', 'distraction', 'products', 'policy', 'targets', 'python', 'funding', 'heath', 'campus', 'fellini', 'rambling', 'murky', 'cannes', 'coffin', 'agony', 'eagerly', 'moss', 'executives', 'uncanny', 'arty', 'intensely', 'paints', 'idol', 'maureen', 'bonnie', 'fried', 'gershwin', 'gallery', 'johansson', 'hippies', 'combs', 'degrees', \"c'mon\", 'syndrome', 'stiles', 'darth', 'translate', 'vonnegut', 'meyer', 'snowman', 'insomnia', 'lurking', 'plodding', '-the', 'blamed', 'tuned', 'gloria', 'shifts', 'shift', 'factual', 'employee', 'ambitions', 'tho', 'best.', 'economic', 'criticize', '95', 'politicians', 'glimpses', 'pains', 'frantic', 'mick', 'nerve', 'followers', 'mates', 'inclusion', 'consequently', 'midst', 'flower', 'gap', 'kathleen', 'goodman', 'spine', 'belly', 'traps', 'chamber', 'kidnap', 'sly', 'grip', 'ambiguity', 'manners', 'hawn', 'fanatic', 'exclusively', 'statements', 'phones', 'alliance', 'replies', 'hooker', 'phoenix', 'sang', 'warden', 'suspicion', 'bauer', 'seats', 'lip', 'do.', 'admitted', 'relating', 'sunrise', 'controversy', 'widowed', 'launch', 'mandy', 'curiously', 'hayes', 'resembling', 'enigmatic', 'stalked', 'assignment', 'detroit', 'collins', 'discussed', 'veterans', 'brooke', 'imaginary', 'slim', 'gestures', 'did.', 'intro', 'stand-up', 'sebastian', 'experience.', 'dismiss', 'rehash', 'baron', 'godard', 'crap.', 'glance', 'uniforms', 'sketches', 'fleet', 'upside', '1934', 'frontal', 'lastly', 'juan', 'sentences', 'participants', 'ignoring', 'sonny', 'wright', 'intact', 'lopez', 'swinging', '99', 'hyped', 'worse.', 'stardust', 'gackt', 'wayans', 'finney', 'shaggy', 'dafoe', 'grendel', 'reiser', 'myrtle', 'battlestar', 'galactica', 'slater', 'guardian', 'substantial', '1982', 'scenarios', 'gigantic', '200', 'realistically', 'abound', 'isabelle', 'payoff', 'overbearing', 'avid', 'over.', 'rounds', 'smash', 'bosses', 'scripting', 'safely', 'ny', 'casablanca', 'paths', 'haunt', 'capacity', 'bros.', 'applied', 'upcoming', 'apt', 'stream', 'downs', 'popped', 'maintains', 'applies', 'benjamin', 'educated', 'reflected', 'rice', 'backed', 'extensive', 'flames', 'biker', 'resume', 'enchanted', 'mccarthy', 'script.', 'dreamy', 'foremost', 'linked', 'soprano', 'consequence', 'robbers', 'sweden', 'cycle', 'envy', '1998', 'natali', 'surroundings', 'pre-code', 'brides', 'foil', 'gloomy', 'sub-plot', 'hand-held', 'skinny', 'locke', 'qualify', 'rips', 'click', 'ample', 'resistance', 'wheel', 'narrated', 'blandings', 'sparks', 'hinted', 'abortion', 'revolving', 'bats', 'bleed', 'necessity', 'cab', 'services', 'ignores', 'self-indulgent', 'likeable', 'predator', 'giovanna', 'cena', 'artistry', 'investigator', 'loren', 'gus', 'randall', 'evans', 'dynamics', 'israeli', 'motorcycle', 'october', 'muslims', 'omar', 'ferrell', 'olsen', 'coburn', 'geisha', 'meredith', 'angelina', 'blaise', 'nun', 'martino', 'tomb', 'rupert', 'hines', 'sho', 'aaron', 'macdonald', 'edison', 'rohmer', 'kristofferson', 'feinstone', 'snipes', 'flavia', 'fleshed', 'doug', 'bait', 'clunky', 'fortunate', 'frozen', 'voyager', 'witnessing', 'satisfaction', 'fuzzy', 'acknowledge', 'biting', 'reunite', 'bernsen', 'benefits', 'mins', 'parrot', 'valid', 'nuanced', 'gaps', 'periods', 'professionals', 'relying', 'controls', 'brett', 'cheers', 'momentum', 'playwright', 'precise', 'supreme', 'offend', 'sights', 'invested', 'saloon', 'weekly', 'prophecy', 'er', 'schedule', 'hysterically', 'medicine', 'repeats', 'ruining', 'maximum', 'rewarded', 'denouement', 'fruit', 'arrow', 'sheets', 'pose', 'stereotyped', 'unfolding', 'shore', 'stadium', 'paranoid', 'courtesy', 'drowned', 'silverman', 'colored', 'hmmm', 'jude', 'ever.', 'revival', 'breast', 'array', 'collector', 'diner', 'convent', 'redneck', 'homicidal', 'massey', 'madeleine', 'unstable', 'eh', 'kells', 'russ', 'rodriguez', 'joking', 'assure', 'cow', 'cap', 'lunatic', 'vivian', 'shotgun', 'god-awful', 'phantasm', 'artemisia', 'beckham', 'bubble', 'pornography', 'gannon', 'marisa', 'brashear', 'ajay', 'commendable', 'replacement', 'trauma', 'fuel', 'landmark', 'spotlight', 'fundamental', 'famed', 'skeptical', 'stern', 'gathering', 'sour', 'sense.', 'observe', 'sg-1', 'rightly', 'talky', 'puppy', 'interviewed', 'shocks', 'deemed', 'outlandish', 'pivotal', 'announced', 'communication', 'boundaries', 'thailand', 'seduce', 'history.', 'antagonist', 'displaying', 'enchanting', 'du', '1992', 'vignettes', 'characterizations', 'protest', 'disco', 'therapy', 'similarity', 'targeted', 'needing', '23', 'customers', 'iq', 'pans', 'villainous', 'coke', 'murderers', 'brat', 'actors.', 'thereby', 'tire', 'sunset', 'observations', 'admits', 'spade', 'commanding', 'entrance', 'waking', 'sensibility', 'biopic', 'bennett', 'characterisation', 'novelist', 'crushed', 'garfield', 'handicapped', 'unhinged', 'anyway.', 'smell', 'bias', 'madison', 'daytime', 'realises', 'pilots', 'comeback', 'riff', 'coward', 'interrupted', 'misty', 'balanced', 'inadvertently', 'insert', 'questioning', 'raging', 'jagger', 'gorilla', 'peggy', '1959', 'diego', 'anita', 'stations', 'carlos', 'sufficient', 'duchovny', 'barney', 'laboratory', 'marked', 'stake', 'studied', 'jackman', 'scarlet', 'adele', 'rebels', 'brent', 'ernie', 'vargas', 'guevara', 'rourke', 'shahid', 'characteristic', 'harrowing', 'evokes', 'penned', 'mind.', 'caretaker', 'd.', 'tones', 'shred', 'kirsten', 'stumble', 'interior', 'scheming', 'mentor', 'reluctantly', 'manipulation', 'admirer', 'awareness', 'substitute', 'arrogance', 'determination', 'psychedelic', \"o'brien\", 'orchestra', 'plate', 'takashi', 'complications', 'finishing', 'egyptian', 'progressed', 'though.', 'destination', 'wartime', 'remark', 'marcel', 'sholay', 'baddies', 'death.', 'epics', 'unclear', 'criticized', 'charges', 'elsa', 'favourites', 'hostel', 'nauseating', 'krueger', 'injury', 'quintessential', 'colleague', 'flick.', 'reminding', 'diversity', 'observation', 'samuel', 'chloe', 'subsequently', 'rolls', 'myrna', 'confined', 'forgets', 'finishes', 'fascist', '1951', 'nora', 'platform', 'great.', 'interpretations', 'chuckles', 'ww2', 'accompanying', 'district', 'composition', 'smug', 'hardened', 'understandably', 'suzanne', 'sophia', 'blockbusters', 'addressed', 'enduring', 'comparable', 'fart', 'convenient', '300', 'liotta', 'chew', 'dynamite', 'sylvia', 'apple', 'sweat', 'chaotic', 'girlfriends', 'dillinger', 'cedric', 'm.', 'gino', 'despise', 'reserved', 'unfamiliar', 'divided', 'boots', 'vomit', 'shameless', 'janet', 'bust', 'sincerity', 'scarlett', 'sins', 'upstairs', 'whore', 'travis', 'e.', 'trivial', 'explode', 'scarecrows', 'cutter', 'redford', 'luzhin', 'pecker', 'ursula', 'deathtrap', 'harron', 'captivated', 'celebrities', 'faded', 'salvage', 'ruled', 'contestant', 'grandpa', 'verge', 'hallmark', 'devotion', 'temper', 'hunted', 'thrust', 'orphan', 'testing', 'inserted', 'unnecessarily', 'entries', 'taut', 'seattle', 'relaxed', 'rendering', 'distributed', 'flows', 'infinitely', 'whimsical', 'zodiac', 'sara', 'barker', 'dallas', 'fetish', 'lens', 'hostile', 'dangerously', 'resolve', 'affecting', 'yell', 'file', 'recover', 'cheerful', 'burial', 'magically', '1948', 'bittersweet', 'movie-making', 'camping', 'surround', 'incest', 'clarity', '1967', 'license', 'kaufman', 'desk', 'counting', 'ealing', 'hmm', 'facility', 'busby', 'earliest', 'babes', 'shannon', 'accidental', 'understatement', 'tide', 'organization', 'raunchy', 'days.', 'washed', 'obscurity', 'before.', 'slashers', 'participate', 'considers', 'wrestler', 'gut', 'ram', 'drift', 'annoy', 'sherlock', 'crooks', 'protection', 'titular', 'han', 'fritz', 'unappealing', 'laying', 'pia', 'russo', 'holt', 'candle', 'constraints', 'seth', 'delirious', 'sanity', 'bert', 'cocaine', 'monks', 'v.', 'depardieu', 'val', 'summed', 'senator', 'kinski', 'dreyfuss', 'monotonous', 'belle', 'wesley', 'redgrave', 'bonanza', 'boogie', 'mole', 'z', 'semblance', 'gena', 'caprica', 'segal', '0/10', 'blazing', 'nightmarish', 'truths', 'restraint', 'black-and-white', 'sunk', 'complained', 'admission', 'traditions', 'grin', 'adapt', 'herd', 'sporting', 'flashing', 'fires', 'perverted', 'proceed', 'visitor', 'monica', \"o'neill\", 'deeds', 'assistance', 'entertaining.', 'ghostly', 'inclined', 'coma', 'betrayed', 'excels', 'for.', 'spoiling', 'assumes', 'oblivious', 'rampant', 'superstar', 'programme', 'cancelled', 'awaiting', 'chip', 'monroe', 'jan', 'ghastly', 'transparent', 'ripoff', 'bearing', 'coolest', 'committing', 'overtones', 'toned', 'aesthetic', 'imho', '101', 'miraculously', 'payne', 'article', 'melancholy', 'openly', 'crosses', 'blondell', 'turkish', 'lindy', 'convict', 'achievements', 'searched', '1932', 'engine', 'edmund', 'outrageously', 'conductor', 'motel', 'travolta', 'hostage', 'avoids', 'interesting.', 'lil', 'wholesome', 'listened', 'fiancée', 'flag', 'wash', 'marvin', 'sitcoms', 'robotic', 'dragging', 'automatic', 'pizza', 'networks', 'slower', 'through.', 'preacher', 'gandolfini', 'crossed', 'philo', 'exploitative', 'wherever', 'benny', 'sheridan', 'stuffed', 'occult', 'failures', 'sane', 'portuguese', 'advised', 'uneasy', 'incestuous', 'faye', 'kindly', 'battlefield', 'circa', 'howling', 'drowning', 'joining', 'preaching', 'voodoo', 'intend', 'tess', 'variation', 'meadows', 'colony', 'vcr', 'melbourne', 'implies', 'compensate', 'v', 'bean', 'martians', 'bronte', 'lubitsch', 'cheech', 'goat', 'choir', 'dwight', 'englund', 'dunst', 'jabba', 'warehouse', 'fraud', 'permanent', 'burnt', '5.', 'awarded', 'un', 'distinction', 'sexist', 'prologue', 'masked', 'abundance', 'encouraged', 'shameful', 'clouds', 'borrow', 'tools', 'unleashed', 'excellence', 'practical', 'chandler', 'aniston', 'plug', 'juice', 'fairness', '1943', 'transport', 'mock', 'glossy', 'hum', 'gig', 'clad', 'jar', 'rebellion', 'progression', 'auto', 'impending', '1963', 'norton', 'apocalypse', 'palm', 'booth', 'climbing', 'cheering', 'vapid', 'deepest', 'pigs', 'mamet', 'enormously', 'sharks', 'client', 'almighty', 'presidential', 'tits', 'absorbed', 'mister', 'dash', 'evoke', 'bashing', 'battling', 'part.', 'demeanor', 'fitzgerald', 'sections', 'epitome', 'ala', 'upbeat', 'nutshell', 'byron', 'vincenzo', 'toxic', 'turtle', 'eagle', 'prop', 'meek', 'pretends', 'shoe', 'jo', 'raid', 'admiration', 'vet', 'crowe', 'beers', 'ninety', 'stabbing', 'spontaneous', 'coppola', \"'80s\", 'dante', 'beforehand', 'duh', 'unconventional', 'thunder', 'underdeveloped', 'henchmen', 'remainder', 'traumatic', 'robbed', 'runaway', 'dern', 'warrant', 'fashions', 'satanic', 'confuse', 'dreaming', 'filmography', 'r.', 'patty', 'watcher', 'dictator', 'castro', 'beard', 'pauline', 'sergio', 'forrest', 'unnatural', 'everett', 'stepmother', 'lara', 'mira', 'avenge', 'vaughn', 'mack', 'govinda', 'irritated', 'je', 'serbian', 'farnsworth', 'paz', 'scooby-doo', 'gretchen', 'zelah', 'awful.', 'tashan', 'hobgoblins', 'se', 'fiend', 'criticisms', 'combining', 'conveying', 'interiors', 'respond', 'hometown', 'effortlessly', 'gangs', 'forgiveness', 'dominate', 'revolver', 'sheep', 'mobster', 'policemen', 'qualifies', 'screened', 'own.', 'gosh', 'seuss', 'defending', 'britney', 'tech', '1000', 'zu', 'saints', 'breathe', 'shaped', 'egypt', 'self-centered', 'electronic', 'blames', 'ostensibly', 'sober', 'quaint', 'peers', 'disappearance', 'spiral', 'conscious', 'marcus', 'occupied', '1966', 'rivals', 'secure', 'carpet', 'idealistic', 'cast.', 'clyde', 'managing', 'marijuana', 'pursuing', 'knights', 'merry', 'ang', 'genre.', 'noting', 'fades', 'disregard', 'ernest', 'torment', 'rivalry', 'slavery', 'garage', 'celebrate', 'distinctive', 'ambiance', 'stuff.', 'madman', 'sales', 'norris', 'chops', 'stab', 'suave', 'ninjas', 'grease', 'connie', 'espionage', 'geoffrey', 'drawings', 'tightly', 'solved', 'principles', 'linear', 'incidental', 'watching.', 'bimbo', 'symbols', 'courageous', 'classmates', 'dillon', 'reported', 'cells', 'banks', 'marine', 'irving', 'informer', 'motivated', 'barnes', 'geek', 'notices', 'boobs', 'forsythe', 'shatner', 'sinks', 'shrek', 'sickness', 'projected', 'gypsy', 'bodyguard', 'roller', 'brazilian', 'della', 'rodney', 'fagin', 'frost', 'macmurray', 'croc', 'submarine', 'arnie', 'lindsey', 'reagan', 'myra', 'boogeyman', 'plummer', 'panahi', 'worrying', 'culkin', 'bless', 'officially', 'shelter', 'ads', 'framing', 'morse', 'slept', 'inform', 'informs', 'employees', 'socially', 'experts', 'sustain', 'influences', 'collapse', 'annoyance', 'cohesive', 'bastard', 'screenplays', 'uncertain', 'confines', 'nest', 'himself.', 'budding', 'sensual', 'cursed', 'strung', 'letdown', 'middle-class', 'tended', 'responds', 'reject', 'pompous', 'clarence', 'sensitivity', 'labeled', 'liberty', 'detached', 'job.', 'abu', 'allan', 'discipline', 'manipulated', 'bites', 'ideals', 'regime', 'cracks', 'joint', 'clinic', 'digging', 'creations', 'midget', 'tolerance', 'prank', 'associate', 'brandon', 'later.', 'buffy', 'woefully', 'cassie', 'dish', 'transforms', 'st', 'closure', 'crashed', 'reunited', 'emmy', 'programming', 'sammy', 'helena', 'yells', 'switching', 'playful', 'weirdness', 'pervert', '........', 'alexandra', 'shield', 'prostitution', 'riders', 'mae', 'influential', 'sandy', 'malden', 'pierre', 'spelling', 'offense', 'spoofs', 'maurice', 'pornographic', 'tackle', 'hugo', 'counterparts', 'keanu', 'edges', 'predecessors', 'bloodbath', 'reasoning', 'investment', '3-d', 'vigilante', 'peckinpah', 'back.', 'outset', 'snap', '1958', 'clutter', 'stink', 'burgess', 'queens', 'floriane', 'sacrifices', 'hilton', 'farrah', 'fodder', 'hip-hop', 'muni', 'reese', 'wheelchair', 'midler', 'coop', 'caper', 'beetle', 'oprah', 'abomination', 'noam', 'kilmer', 'jigsaw', 'harilal', 'hanzo', 'cruella', 'kareena', 'money.', 'determine', 'rousing', 'engineer', 'boards', 'deck', 'consciousness', 'heather', 'cunning', 'starship', 'troopers', 'surrender', 'happenings', 'elephants', 'villa', 'echoes', 'replacing', 'perspectives', 'fabric', 'glenda', 'atrocity', 'inexperienced', 'pam', 'faint', 'protective', 'adultery', 'transported', 'mythical', 'crypt', 'roles.', 'marrying', 'advances', 'theodore', 'crowded', 'anguish', 'flowing', 'kramer', 'lurid', 'mostel', 'inconsistencies', 'spelled', 'tolerate', 'captive', 'signature', 'division', 'buttons', 'emphasize', 'jewelry', 'conclusions', 'concentration', 'justification', 'asset', 'amid', 'prostitutes', 'pepper', 'stabs', 'bartender', 'happen.', 'pairing', 'todays', 'muriel', 'grating', 'interplay', 'thorn', 'marines', 'diving', 'economy', 'vertigo', 'lo', 'seduction', 'knees', 'parodies', 'loner', 'perverse', 'weary', 'fixed', 'representing', 'existing', 'trigger', 'lighthearted', 'nearest', 'paycheck', 'overshadowed', 'functions', 'seriousness', 'manic', 'mercifully', 'scratching', 'peril', 'cringing', 'imitate', 'alarm', 'gruff', 'butchered', 'acclaim', 'collaboration', 'hallucinations', 'dom', 'depend', 'condemned', 'pressed', 'damsel', 'cannibals', 'cloak', 'ossessione', '1946', 'tramp', 'polar', 'mixes', 'identified', 'darkly', 'a.k.a', 'systems', 'varying', 'awry', 'transplant', 'surgeon', 'monday', 'ceiling', 'y', 'lingering', 'padding', 'islands', 'katie', 'unravel', 'reno', 'spaceship', 'maintaining', 'parks', 'outlaw', 'slut', 'radiation', 'berenger', 'mustache', 'shoved', 'romania', 'groove', 'daria', 'pertwee', 'henderson', 'bart', 'forbes', 'stares', 'helmet', 'orlando', 'simba', 'roach', 'sammi', 'locate', 'fiery', 'moments.', 'atlantic', 'rockets', 'representative', 'liberties', 'judges', 'staging', \"'60s\", 'profoundly', 'armor', 'man.', 'ensue', 'pleasures', 'dedication', 'brush', 'categories', 'lays', 'sensibilities', 'bing', 'corbin', 'natasha', 'kings', 'rudd', 'russians', 'officials', 'censorship', 'structured', 'magazines', 'borrows', 'portions', 'switches', 'heap', 'locale', 'entertains', 'czech', 'grossly', 'lifts', 'reckless', 'tsui', 'torturing', 'freed', 'contributes', 'believability', 'strain', 'confronts', 'plagued', 'straight-to-video', 'mills', 'bliss', 'presume', 'impressions', 'sensational', 'showcases', 'significantly', 'airing', 'extraordinarily', 'billing', 'applause', 'lanza', 'paired', 'sites', 'premiered', 'sorrow', 'drastically', 'widower', 'downbeat', 'stevenson', 'alba', 'derived', 'federal', 'identities', 'denying', 'elected', 'shocker', 'flew', 'foreboding', 'tasty', 'badness', 'examine', 'll', 'dwarf', 'gasp', 'abroad', 'communism', 'modern-day', 'bon', 'dunne', 'lars', 'aircraft', 'drummer', 'strained', 'anchors', 'kidnaps', 'cheung', 'direct-to-video', 'barton', 'off-screen', 'scorpion', 'archer', 'cowardly', 'around.', 'gathered', 'earns', 'pen', 'dim', 'possible.', 'ss', 'yarn', 'henchman', 'bogdanovich', 'temptation', 'placement', 'lions', 'opposition', '1955', 'beth', 'attendant', 'egg', 'decency', 'slam', 'sasquatch', 'sorvino', 'dyke', 'animations', 'latino', 'superfluous', 'distorted', 'hale', 'continuously', 'establishment', 'disappoints', 'theatres', 'geniuses', 'luthor', 'fawcett', 'ali', 'lila', 'lansbury', 'ledger', 'chevy', 'mcdermott', 'mediocrity', 'azumi', 'brennan', 'surf', 'fanning', 'chen', 'ewoks', 'steaming', 'warhols', 'kornbluth', 'fetched', 'confirmed', 'hypnotic', 'see.', 'ravishing', 'overwrought', 'developments', 'aboard', 'engagement', 'uptight', 'sweeping', 'increase', 'spotted', 'reportedly', 'celine', 'scriptwriter', 'artistically', 'fierce', 'injustice', 'gently', 'wu', 'liz', 'echo', 'distinctly', 'eyed', 'nifty', 'manga', 'alcoholism', 'prolific', 'illustrate', 'valerie', 'deborah', 'doris', 'register', 'lawn', 'allies', 'preferably', 'luxury', 'intelligently', 'transitions', 'drum', 'bleeding', 'abstract', 'knocking', 'hairy', 'funky', 'puzzled', 'data', 'predicted', 'correctness', 'imprisoned', 'others.', 'violently', 'sensation', 'tricked', 'right.', 'half-hour', 'blessed', 'uninspiring', 'cheesiness', 'brick', 'maugham', 'towns', 'consumed', 'kenny', 'romanian', 'virtue', 'oscar-winning', 'notwithstanding', 'dealers', 'subdued', '26', 'ahmad', 'throne', 'hurry', 'scattered', 'stirring', 'laser', 'spells', 'caruso', 'pavarotti', '1920', 'vienna', 'shelves', 'optimism', 'unwilling', 'conniving', 'cloth', 'languages', 'fuss', 'portman', 'behaving', 'bills', 'wrongly', 'fence', 'apollo', 'defy', 'crooked', 'retirement', 'welch', 'authors', 'willy', 'icons', 'war.', 'threads', 'gladiator', 'glow', 'ceremony', 'sibling', 'rko', 'joshua', 'hunky', 'owe', 'wielding', 'tina', 'monologues', 'bishop', 'downfall', 'boost', 'genetic', 'prefers', 'launched', 'inhabit', 'attic', 'rhyme', 'supportive', 'sucking', 'snowy', 'brit', 'deservedly', 'alter', 'groundbreaking', 'standpoint', 'accomplishment', 'booker', 'elmer', 'mans', 'bothers', 'sophistication', 'thereof', 'elliot', 'confession', 'expresses', 'marx', 'chemical', 'intellectually', 'mcadams', 'quirks', 'supermarket', 'peterson', 'shrill', 'holland', 'granger', 'lds', 'loony', 'weaver', 're-make', 'cradle', 'bloke', 'stoned', 'thug', 'golf', 'thereafter', 'penguin', 'capitalism', 'lorre', 'moonstruck', 'sykes', 'dani', 'nonexistent', 'zhang', \"t'aime\", 'dickinson', 'shiny', 'mines', 'keitel', 'kusturica', 'toro', 'greenaway', 'mcdowell', 'sarne', 'conflicted', 'bombed', 'period.', 'autobiography', 'stars.', 'mastermind', 'cynicism', 'prolonged', 'slips', 'icy', 'trusted', 'leaps', 'cheat', 'denver', 'eyes.', 'passenger', 'missions', 'increasing', 'maturity', 'original.', 'fulfill', 'astonishingly', 'cinematographic', 'rapid', 'predictability', 'lists', 'defining', 'fulfilling', 'flamboyant', 'censors', 'caesar', 'visceral', 'comprised', 'animators', 'book.', 'sigh', 'ongoing', 'recovering', 'are.', 'bald', 'proportions', 'blackmail', 'prone', 'bigfoot', 'innuendo', 'hark', 'analyze', 'illusion', 'youngsters', 'shady', 'willingly', 'promoting', 'heavenly', 'idiocy', 'anxiety', 'muscular', 'observed', 'upbringing', 'fur', 'whip', 'judgement', 'supports', 'knives', 'hazzard', 'sabu', 'korda', 'half-way', 'civilians', 'traveled', 'athletic', 'baddie', 'gusto', 'relates', 'fleeting', 'improvised', 'harbor', 'fleeing', 'us.', \"o'toole\", 'jam', 'overtly', 'drain', 'year.', 'mud', 'satisfactory', 'succession', 'vaudeville', 'kingsley', 'dodgy', 'heartless', 'sleeper', 'potent', 'shout', 'ash', 'fiasco', 'neeson', 'scarier', 'theo', 'proudly', 'elder', 'mutants', 'fighters', 'grisly', 'slaughtered', 'sloane', 'hans', 'vibe', 'simpler', 'moderately', 'undercover', 'bitchy', 'fewer', 'rogue', 'operate', 'perceived', 'enough.', 'harlin', 'retrieve', 'peaks', 'reruns', 'deadpan', 'cockney', 'protecting', 'amoral', 'photograph', 'denial', 'appalled', 'operating', 'rizzo', 'robbing', 'limp', 'sematary', 'brunette', 'pasolini', 'imply', 'celeste', 'encourages', 'mcgavin', 'electricity', 'rapes', 'swift', 'co-worker', 'cillian', 'maguire', 'monastery', 'lure', 'connor', 'hogan', 'shawn', 'michaels', 'taker', 'rant', 'ratio', 'zany', 'wrath', 'auteur', 'olds', 'manipulate', 'slow-motion', 'pickup', 'coleman', 'nerdy', 'diaz', 'khouri', 'rosenstrasse', 'dukakis', 'mockery', 'ex-girlfriend', 'ogre', 'trendy', 'cortez', 'christensen', 'frat', 'shin-ae', 'lin', 'izzard', 'crenna', 'dominick', 'tolkien', 'lommel', 'durbin', 'darius', 'delia', 'gram', 'sack', 'lawyers', 'associates', 'co-wrote', 'enthralling', 'believable.', 'penalty', '-and', 'worldwide', 'mpaa', 'truthful', 'pistol', 'recreate', 'i.', 'steamy', 'lesbians', 'heir', 'prejudices', 'scandal', 'alienation', 'rico', 'disasters', 'farewell', 'bonds', 'thumb', 'largest', 'treating', 'custody', 'breakthrough', 'zealand', 'clockwork', 'expand', 'compassionate', 'continuous', 'conquest', 'worship', 'hug', 'locales', 'illustrated', 'padded', 'climate', 'throats', 'unconscious', 'naval', 'vulnerability', 'seventh', 'recurring', 'doses', 'lightweight', 'immigrants', 'annoyingly', 'jurassic', 'patriotic', 'dive', 'hustler', 'swords', 'priests', 'leno', 'chef', 'pour', 'placing', 'urgency', 'nutty', 'temporary', 'dangers', 'gays', 'shamelessly', 'notions', 'fable', 'co-written', 'rugged', 'coal', 'roads', 'mechanic', 'action.', 'distinguished', 'tacked', 'wee', 'poet', 'feared', 'opponents', 'burden', 'sore', 'irresistible', 'aura', 'irresponsible', 'tasks', 'jolly', 'vera', 'crass', 'assortment', 'richly', 'gravity', 'ex-wife', 'post-war', 'dodge', '1949', 'unnerving', 'expressing', 'hard-boiled', 'terrorism', 'retelling', 'astronaut', 'bullies', '7.', 'levy', 'giggle', 'architect', 'ranger', 'home.', 'connolly', 'flame', 'subtitled', 'bloodshed', 'herrings', 'guru', 'mastroianni', 'chop', 'concentrated', 'backdrops', 'wolves', 'micheal', 'climbs', 'behaves', 'limbs', 'academic', 'curtain', 'legion', 'stripper', 'tables', 'management', 'winners', 'attributes', 'hopeful', 'mandatory', 'gage', 'ranging', 'jed', 'happier', 'jerky', 'lange', 'transformers', '8.', 'interspersed', 'unlucky', 'relaxing', 'aztec', 'sleepy', 'stumbling', 'needlessly', 'inducing', 'freaked', 'ridden', 'stupid.', 'benoit', 'destructive', 'inhabited', 'melinda', 'duff', 'prophet', 'dvd.', 'mess.', 'tobe', 'sub-plots', 'ballroom', 'grady', 'cristina', 'irwin', 'virginity', 'agatha', 'counted', 'fast-forward', 'carface', 'whipped', 'dietrich', 'daphne', 'tourists', 'mattei', 'danning', 'elisha', 'hector', 'marjorie', 'sailors', 'aweigh', 'palestinian', 'shaun', 'mj', 'kalifornia', 'duryea', 'callahan', 'batwoman', 'pals', 'teddy', 'volumes', 'finely', 'percent', 'disdain', 'marathon', 'garcia', 'concentrates', 'it´s', 'guided', 'impeccable', 'billion', 'irrational', 'rebecca', 'stature', 'contemplate', 'posh', 'bonding', 'muted', 'era.', 'inherited', 'architecture', 'palette', 'confronting', 'explanations', 'compromise', 'slew', 'lovingly', 'profile', 'maverick', 'anti-hero', 'knack', 'enhances', 'practices', 'corridors', 'disappearing', 'approximately', 'january', 'reason.', 'cocky', 'p.', 'healing', 'overwhelmed', 'meanings', 'awfulness', 'gee', 'shaolin', 'intellect', 'spinning', 'paragraph', 'crouse', 'bearable', 'concludes', 'downtown', 'il', 'illiterate', 'seinfeld', 'purse', 'frenzy', 'waits', 'elevate', 'discernible', 'azaria', 'collar', 'coverage', 'cousins', 'adequately', 'incompetence', 'anti', 'woke', 'seal', 'restless', 'melt', 'yearning', 'efficient', 'jessie', 'alone.', 'discussions', '1920s', 'cbc', 'logo', 'bursts', 'chocolate', 'feature-length', 'pond', 'existential', 'tested', 'versatile', 'keeler', 'honeymoon', 'regrets', 'pub', 'idea.', 'psychiatric', 'perceive', 'caution', 'submit', '1957', 'benson', 'heavens', 'imitating', 'examined', 'first-time', 'stretches', 'astronauts', 'expanded', 'face.', 'didnt', '2009', 'chock', 'nailed', 'rusty', 'witherspoon', 'saddest', 'flipping', 'lizard', 'ma', 'roommates', 'lightly', 'drugged', 'schwarzenegger', 'film-maker', 'traumatized', 'sessions', 'consisted', 'unemployed', 'metropolis', 'casually', 'bury', 'carnival', 'vault', 'stalks', 'passions', 'counterpart', 'handy', 'apartheid', 'poke', 'footsteps', 'screamed', 'afghanistan', 'levant', 'gimmicks', 'rewrite', 'spitting', 'compositions', 'versa', 'smarmy', 'hoover', 'recipe', \"'73\", 'hawaii', 'swiss', 'branch', 'fleming', 'alienate', 'rapture', 'carson', 'morgana', 'supporters', 'corleone', 'stereotyping', 'barbarian', 'collecting', 'hesitate', 'dopey', 'rotting', 'embarrass', 'coaster', 'honey', 'allison', 'neglect', 'mac', 'cocktail', 'deathstalker', 'lecture', 'aiello', 'harlem', 'neo', 'joanna', 'vic', 'smarter', 'skipping', 'lung', 'philadelphia', 'rainer', 'sheila', 'relied', 'ella', 'pranks', 'islam', 'bothering', 'sleuth', 'supremacy', 'stupidest', 'marlene', 'platoon', 'hamill', 'zabriskie', 'leia', 'dahl', 'italians', 'planted', 'stepped', 'semi', 'loop', 'hungarian', 'converted', 'undeveloped', 'maiden', 'outs', 'friendships', 'bash', 'marred', 'customs', 'version.', 'apprentice', 'adopt', 'entertainer', 'plantation', 'alternately', 'today.', 'borderline', 'subtleties', 'association', 'kindness', 'goers', 'prevalent', 'grain', 'dental', 'capt', 'vengeful', 'hardest', 'kerr', 'nineties', 'bombing', 'balloon', 'overacts', 'surpasses', 'insignificant', 'insects', 'hedy', 'lamarr', 'springs', 'prevented', 'jew', 'strikingly', 'jock', 'monstrous', 'kiddie', 'intestines', 'superiors', 'rests', 'shrink', 'monstrosity', 'rack', 'proverbial', '1964', 'evolved', 'liar', 'dreadfully', 'undertaker', 'mourning', 'wwi', 'betrays', 'email', 'garnered', 'stoic', 'welcomed', 'rushes', 'shakespearean', 'ebay', 'adventurous', 'rightfully', 'dusty', 'regain', 'continent', 'lyrical', 'dense', 'mold', 'tensions', 'replay', '18th', 'wits', 'regal', 'delve', 'flip', 'diabolical', 'rehearsal', 'backyard', 'insanely', 'suggestive', 'spectacularly', 'administration', 'eliminate', 'fanatics', 'acknowledged', 'documents', 'backwoods', 'premises', 'sparse', '48', 'gardens', \"o'sullivan\", 'cloud', 'heroin', 'barman', 'partial', 'empathize', 'squeeze', 'torch', 'candidates', 'toss', 'darling', 'suspended', 'carole', 'listing', 'slipped', 'apologize', 'co', 'worm', 'condescending', 'tucker', 'assist', 'immersed', 'writer-director', 'brink', 'tango', 'snippets', 'montages', 'graves', 'bucket', 'slows', 'profit', 'smoothly', 'believer', 'long.', 'merrill', 'tedium', 'obscene', 'sleeve', 'uncredited', 'cathy', 'foch', 'december', 'chewing', 'thankful', 'sant', 'longtime', 'swamp', 'grumpy', 'lamas', 'revive', 'atomic', 'looney', 'switzerland', 'schumacher', 'conception', 'full-length', 'choke', 'pauses', 'breathless', 'bruckheimer', 'oppressive', 'corky', 'fugitive', 'sub-genre', 'conduct', 'stubborn', 'marquis', 'outrage', 'lotr', 'viggo', 'claw', '73', 'horn', 'connecting', 'noah', 'dane', 'democracy', 'intruder', 'daisies', 'lucio', 'ecstasy', 'kamal', 'jameson', 'mcintire', 'bolivia', 'maclean', '700', 'pita', 'newcombe', 'saif', 'darkman', 'achieving', 'grips', 'revelations', 'sentenced', 'fireworks', 'chat', 'his/her', 'ewan', 'science-fiction', '85', 'recalls', 'aristocrat', 'millennium', 'crawl', 'heart-warming', 'societies', 'chapters', 'affections', 'equals', 'psychologically', 'overt', 'finch', 'eponymous', 'denied', 'cheaper', 'haired', 'matching', 'universally', 'organs', 'planets', 'underdog', 'honorable', 'variations', 'blink', 'boyfriends', 'witless', 'nana', 'misplaced', 'comic-book', 'albums', 'townsend', 'music.', 'theirs', 'downside', 'render', 'butterfly', 'woven', 'wondrous', 'overseas', 'hayward', 'clumsily', 'sorta', 'satellite', 'mutated', 'anchor', 'exhibit', 'snappy', 'shadowy', 'gaining', 'wipe', 'nuance', 'rigid', 'confirm', 'good-natured', 'throwaway', 'janitor', 'floors', 'celebrating', 'casted', 'draft', 'allegedly', 'disgruntled', 'villagers', 'camps', 'things.', 'episodic', 'presumed', 'interpreted', 'duties', 'crowds', 'practicing', 'arizona', 'oriental', 'companions', 'flee', 'locks', 'harmony', 'sacrificed', 'spectrum', 'streak', 'grandparents', 'retain', 'creeps', 'plants', 'layered', 'polite', 'greta', 'shouts', 'co-writer', 'outta', 'director/writer', 'mischievous', 'admirably', 'performances.', 'siege', 'basil', 'illustrates', 'criminally', 'tepid', 'exposing', 'untrue', 'snatch', 'kinky', 'hes', \"'what\", 'darkest', 'sans', 'creepiness', 'real.', 'townspeople', 'gamut', 'anonymous', 'lombard', 'historians', 'caroline', 'requisite', 'strangest', 'hurting', 'gesture', 'penis', 'dogma', 'edits', 'adapting', 'stimulating', 'stripped', 'classified', 'usage', 'renoir', 'unimpressive', 'surrogate', 'expertise', 'november', 'liza', 'stir', 'unborn', 'alligator', 'fernando', 'desolate', 'norwegian', 'leopold', 'norma', 'ppv', 'bryan', 'amok', 'plotted', 'hockey', 'cracker', 'smitten', 'shack', 'telly', 'kentucky', 'mocking', 'addressing', 'chore', 'wallach', 'mortensen', 'soles', 'nuns', 'holden', 'itchy', 'goofs', 'lieutenant', 'malcolm', 'crow', 'forgivable', 'hispanic', 'mining', 'piper', 'thinner', 'paperhouse', 'insulted', 'willem', 'surfers', 'flamenco', 'stoltz', 'zatoichi', 'askey', 'stefan', 'revolting', 'hammerhead', 'vivah', 'btk', 'tremors', 'smallest', 'request', 'somber', 'chains', 'yourself.', 'winslet', 'voting', 'voters', 'co.', 'overnight', 'unsuccessful', 'chairman', 'transform', 'transcends', 'recreation', 'gladly', 'stills', 'societal', 'transferred', 'classic.', 'come.', 'straw', 'ensuing', 'operas', 'keyboard', 'complains', 'turgid', 'colourful', 'blends', 'atrocities', 'shakes', 'showtime', 'spreading', 'shenanigans', 'glee', 'iowa', 'phyllis', 'perfected', 'exposes', 'anchorman', 'rumors', 'bathing', 'booze', 'krishna', \"'bad\", 'participation', 'beau', 'weaves', 'attributed', 'capitalize', 'schemes', 'lap', 'hunk', 'prevents', 'preserved', 'abominable', 'lam', 'decapitated', 'spears', 'pokes', 'em', 'bava', 'unfairly', 'mindset', 'behalf', 'answering', 'sacred', 'kerry', 'crop', 'prototype', 'faux', 'addresses', 'i.e.', 'forum', 'bout', 'currie', 'ounce', 'positions', 'interpret', 'gym', 'allied', 'reception', 'orphanage', 'jaffar', 'bravery', 'instruments', '1942', 'employs', 'why.', 'blaine', 'exhausted', 'praying', 'redeemed', 'brits', 'haha', 'speechless', 'unfinished', 'sixteen', 'secluded', 'decoration', 'retrospect', 'hating', 'puzzling', 'distributor', 'monumental', 'skimpy']\n"
     ]
    }
   ],
   "source": [
    "print(top1000)"
   ]
  },
  {
   "cell_type": "markdown",
   "metadata": {},
   "source": [
    "**Task 9 (3P): Train a logistic regression model with a Bag of words (BoW) feature and test the model on the test set. Calculate the accuarcy. Compare BoW model with your model from task 8.**"
   ]
  },
  {
   "cell_type": "code",
   "execution_count": 10,
   "metadata": {},
   "outputs": [
    {
     "name": "stdout",
     "output_type": "stream",
     "text": [
      "Tokenize Positive Examples\n",
      "Tokenize Negative Examples\n",
      "Epoch [1/50], Loss: 0.4240\n",
      "Epoch [2/50], Loss: 0.4144\n",
      "Epoch [3/50], Loss: 0.3147\n",
      "Epoch [4/50], Loss: 0.3896\n",
      "Epoch [5/50], Loss: 0.2351\n",
      "Epoch [6/50], Loss: 0.3159\n",
      "Epoch [7/50], Loss: 0.3017\n",
      "Epoch [8/50], Loss: 0.3664\n",
      "Epoch [9/50], Loss: 0.3476\n",
      "Epoch [10/50], Loss: 0.4813\n",
      "Epoch [11/50], Loss: 0.1745\n",
      "Epoch [12/50], Loss: 0.3485\n",
      "Epoch [13/50], Loss: 0.2188\n",
      "Epoch [14/50], Loss: 0.3718\n",
      "Epoch [15/50], Loss: 0.3380\n",
      "Epoch [16/50], Loss: 0.3358\n",
      "Epoch [17/50], Loss: 0.1278\n",
      "Epoch [18/50], Loss: 0.2285\n",
      "Epoch [19/50], Loss: 0.1769\n",
      "Epoch [20/50], Loss: 0.3057\n",
      "Epoch [21/50], Loss: 0.3312\n",
      "Epoch [22/50], Loss: 0.3135\n",
      "Epoch [23/50], Loss: 0.3377\n",
      "Epoch [24/50], Loss: 0.2932\n",
      "Epoch [25/50], Loss: 0.2736\n",
      "Epoch [26/50], Loss: 0.6316\n",
      "Epoch [27/50], Loss: 0.1491\n",
      "Epoch [28/50], Loss: 0.3728\n",
      "Epoch [29/50], Loss: 0.2638\n",
      "Epoch [30/50], Loss: 0.1875\n",
      "Epoch [31/50], Loss: 0.3699\n",
      "Epoch [32/50], Loss: 0.4224\n",
      "Epoch [33/50], Loss: 0.2130\n",
      "Epoch [34/50], Loss: 0.3851\n",
      "Epoch [35/50], Loss: 0.3565\n",
      "Epoch [36/50], Loss: 0.3143\n",
      "Epoch [37/50], Loss: 0.1770\n",
      "Epoch [38/50], Loss: 0.2987\n",
      "Epoch [39/50], Loss: 0.3275\n",
      "Epoch [40/50], Loss: 0.2891\n",
      "Epoch [41/50], Loss: 0.2333\n",
      "Epoch [42/50], Loss: 0.2838\n",
      "Epoch [43/50], Loss: 0.2063\n",
      "Epoch [44/50], Loss: 0.3006\n",
      "Epoch [45/50], Loss: 0.2420\n",
      "Epoch [46/50], Loss: 0.4161\n",
      "Epoch [47/50], Loss: 0.3625\n",
      "Epoch [48/50], Loss: 0.1878\n",
      "Epoch [49/50], Loss: 0.2024\n",
      "Epoch [50/50], Loss: 0.2054\n",
      "Tokenize Positive Examples\n",
      "Tokenize Negative Examples\n",
      "21515 25000\n",
      "Test Accuracy for BoW Model: 86.06%\n"
     ]
    }
   ],
   "source": [
    "'''\n",
    "Your code here.\n",
    "\n",
    "Train a logistic regression model with a Bag of words feature.\n",
    "Test the model on the test set. Calculate the accuarcy.\n",
    "\n",
    "3 pts.\n",
    "\n",
    "'''\n",
    "\n",
    "# Define a custom dataset for Bag of Words (BoW) feature\n",
    "class BoWMovieDataset(Dataset):\n",
    "    def __init__(self, pos_examples, neg_examples, top_words):\n",
    "        # Tokenize data\n",
    "        print(\"Tokenize Positive Examples\")\n",
    "        pos_examples_tokenized = [word_tokenize(ex) for ex in pos_examples]\n",
    "        print(\"Tokenize Negative Examples\")\n",
    "        neg_examples_tokenized = [word_tokenize(ex) for ex in neg_examples]\n",
    "\n",
    "        # Create Bag of Words features for training examples\n",
    "        pos_examples_features = [self.bag_of_words_feature(example, top_words) for example in pos_examples_tokenized]\n",
    "        neg_examples_features = [self.bag_of_words_feature(example, top_words) for example in neg_examples_tokenized]\n",
    "\n",
    "        # Preprocess the data\n",
    "        X = torch.stack(pos_examples_features + neg_examples_features)\n",
    "        y = [1] * len(pos_examples) + [0] * len(neg_examples)\n",
    "        y = torch.tensor(y, dtype=torch.float32)\n",
    "\n",
    "        self.X = X\n",
    "        self.y = y\n",
    "\n",
    "    def __len__(self):\n",
    "        return len(self.X)\n",
    "\n",
    "    def __getitem__(self, idx):\n",
    "        return self.X[idx], self.y[idx]\n",
    "\n",
    "    def bag_of_words_feature(self, example, top_words):\n",
    "        # Create a Counter for the words in the example\n",
    "        word_counts = Counter(example)\n",
    "        # Create a tensor of the Bag of Words feature\n",
    "        feature = torch.tensor([word_counts[word] if word in word_counts else 0 for word in top_words], dtype=torch.float32)\n",
    "        return feature\n",
    "\n",
    "# 토큰화, 고유단어 목록 만들기\n",
    "all_examples = pos_examples + neg_examples + pos_test_examples + neg_test_examples\n",
    "all_tokenized = [word_tokenize(ex) for ex in all_examples]\n",
    "all_words = [word for ex in all_tokenized for word in ex]\n",
    "unique_words = list(set(all_words))\n",
    "\n",
    "# 빈도에 따라 상위 1000개 단어 선택\n",
    "word_counts = Counter(all_words)\n",
    "top_words = [word for word, _ in word_counts.most_common(1000)]\n",
    "\n",
    "# Create train dataset and dataloader\n",
    "train_dataset = BoWMovieDataset(pos_examples, neg_examples, top_words)\n",
    "train_dataloader = DataLoader(train_dataset, batch_size=64, shuffle=True)\n",
    "\n",
    "# Instantiate the model\n",
    "input_size = len(top_words)\n",
    "model = LogisticRegression(input_size)\n",
    "\n",
    "# Binary Cross Entropy Loss function and optimizer\n",
    "criterion = nn.BCELoss()\n",
    "optimizer = optim.Adam(model.parameters(), lr=0.001)\n",
    "\n",
    "# Training loop\n",
    "num_epochs = 50\n",
    "for epoch in range(num_epochs):\n",
    "    for inputs, labels in train_dataloader:\n",
    "        # Initialize: Zero the gradients\n",
    "        optimizer.zero_grad()\n",
    "\n",
    "        # Forward pass\n",
    "        outputs = model(inputs)\n",
    "\n",
    "        # Compute the loss\n",
    "        loss = criterion(outputs, labels.unsqueeze(1))  # Ensure labels have the correct shape\n",
    "\n",
    "        # Backward pass (Compute Gradient)\n",
    "        loss.backward()\n",
    "\n",
    "        # Update the parameters\n",
    "        optimizer.step()\n",
    "\n",
    "    print(f'Epoch [{epoch + 1}/{num_epochs}], Loss: {loss.item():.4f}')\n",
    "\n",
    "# Create test dataset and dataloader\n",
    "test_dataset = BoWMovieDataset(pos_test_examples, neg_test_examples, top_words)\n",
    "test_dataloader = DataLoader(test_dataset, batch_size=64, shuffle=False)\n",
    "\n",
    "# Make predictions on the test set\n",
    "model.eval()  # Set the model to evaluation mode\n",
    "predictions = []\n",
    "ground_truths = []\n",
    "\n",
    "with torch.no_grad():\n",
    "    for inputs, labels in test_dataloader:\n",
    "        # Forward pass\n",
    "        outputs = model(inputs)\n",
    "        \n",
    "        # Convert probabilities to binary predictions (0 or 1)\n",
    "        predicted_labels = (outputs >= 0.5).float()\n",
    "        \n",
    "        # Collect predictions and ground truths\n",
    "        predictions.append(predicted_labels)\n",
    "        ground_truths.append(labels.unsqueeze(1))\n",
    "\n",
    "# Concatenate predictions and ground truths along the batch dimension\n",
    "predictions = torch.cat(predictions)\n",
    "ground_truths = torch.cat(ground_truths)\n",
    "\n",
    "# Calculate accuracy on the test set\n",
    "correct_predictions = (predictions == ground_truths).sum().item()\n",
    "total_examples = len(test_dataset)\n",
    "accuracy = correct_predictions / total_examples\n",
    "\n",
    "print(correct_predictions, total_examples)\n",
    "print(f'Test Accuracy for BoW Model: {accuracy * 100:.2f}%')"
   ]
  },
  {
   "cell_type": "markdown",
   "metadata": {},
   "source": [
    "_Your answer here. Compare BoW model with your model from task 8 (Hint: Two views of NLP...)._\n",
    "\n",
    ": There are two views of NLP: statistical NLP approach and deep learning approach, and the BoW model can be said to belong to the statistical approach because it only quantifies the frequency of occurrence of words without considering the order of words. On the other hand, the Linear Regression model can be said to be a deep learning approach because it is trained through tasks 6 and 7. In this task, the frequency of occurrence of words such as positive words or negative words in a sentence is important, and the order is not very important, so we can speculate that the accuracy of the BoW model, which only quantifies the frequency of occurrence without considering the order of words, is higher than the LR model. Also, the difference in accuracy may be caused by the lack of examples of positive and negative words in the Logistic Regression model and the small input_size."
   ]
  }
 ],
 "metadata": {
  "kernelspec": {
   "display_name": "Python 3 (ipykernel)",
   "language": "python",
   "name": "python3"
  },
  "language_info": {
   "codemirror_mode": {
    "name": "ipython",
    "version": 3
   },
   "file_extension": ".py",
   "mimetype": "text/x-python",
   "name": "python",
   "nbconvert_exporter": "python",
   "pygments_lexer": "ipython3",
   "version": "3.11.5"
  }
 },
 "nbformat": 4,
 "nbformat_minor": 4
}
